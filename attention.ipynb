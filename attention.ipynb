{
 "cells": [
  {
   "cell_type": "code",
   "execution_count": 2,
   "id": "7e893663-462c-4e19-98f0-2611f454ccf7",
   "metadata": {},
   "outputs": [],
   "source": [
    "import pandas as pd\n",
    "from nltk.tokenize import word_tokenize\n",
    "import torch\n",
    "import math\n",
    "import torch.nn as nn\n",
    "from torch.nn.utils.rnn import pad_sequence\n",
    "import torch.nn.functional as F\n",
    "from torch.utils.data import TensorDataset, DataLoader\n",
    "import numpy as np"
   ]
  },
  {
   "cell_type": "code",
   "execution_count": 3,
   "id": "46a99932-f65a-4ffd-981b-4eb2c1c32775",
   "metadata": {},
   "outputs": [],
   "source": [
    "df = pd.read_csv(\"poetry.csv\")"
   ]
  },
  {
   "cell_type": "code",
   "execution_count": 4,
   "id": "259e65ac-45c6-452d-b220-6f9e3f605093",
   "metadata": {},
   "outputs": [
    {
     "data": {
      "text/html": [
       "<div>\n",
       "<style scoped>\n",
       "    .dataframe tbody tr th:only-of-type {\n",
       "        vertical-align: middle;\n",
       "    }\n",
       "\n",
       "    .dataframe tbody tr th {\n",
       "        vertical-align: top;\n",
       "    }\n",
       "\n",
       "    .dataframe thead th {\n",
       "        text-align: right;\n",
       "    }\n",
       "</style>\n",
       "<table border=\"1\" class=\"dataframe\">\n",
       "  <thead>\n",
       "    <tr style=\"text-align: right;\">\n",
       "      <th></th>\n",
       "      <th>Unnamed: 0</th>\n",
       "      <th>Title</th>\n",
       "      <th>Poem</th>\n",
       "      <th>Poet</th>\n",
       "      <th>Tags</th>\n",
       "    </tr>\n",
       "  </thead>\n",
       "  <tbody>\n",
       "    <tr>\n",
       "      <th>13849</th>\n",
       "      <td>13</td>\n",
       "      <td>\\r\\r\\n                    1-800-FEAR\\r\\r\\n</td>\n",
       "      <td>\\r\\r\\nWe'd  like  to  talk  with  you  about  fear they  said  so\\r\\r\\r\\nmany  people  live  in  fear  these  days  they  drove  up\\r\\r\\r\\nall  four  of  them  in  a  small  car nice   boy  they  said\\r\\r\\r\\nbeautiful  dogs they  said  so  friendly  the  man  ahead\\r\\r\\r\\nof  the  woman  the other  two  waiting  in  the  drive  I\\r\\r\\r\\nwas  outside digging up the garden no one home I said\\r\\r\\r\\nwhat   are  you  selling   anyway  I'm   not  interested  I\\r\\r\\r\\nsaid  well  you  have  a  nice  day  they  said  here's  our\\r\\r\\r\\ncard  there's   a  phone  number  you  can  call  anytime\\r\\r\\r\\nany  other   houses  down  this  road  anyone  else   live\\r\\r\\r\\nhere  we'd  like  to  talk  to  them  about  living  in  fear\\r\\r\\n</td>\n",
       "      <td>Jody Gladding</td>\n",
       "      <td>Living,Social Commentaries,Popular Culture</td>\n",
       "    </tr>\n",
       "    <tr>\n",
       "      <th>13850</th>\n",
       "      <td>14</td>\n",
       "      <td>\\r\\r\\n                    The Death of Atahuallpa\\r\\r\\n</td>\n",
       "      <td>\\r\\r\\n\\r\\r\\n</td>\n",
       "      <td>William Jay Smith</td>\n",
       "      <td>NaN</td>\n",
       "    </tr>\n",
       "    <tr>\n",
       "      <th>13851</th>\n",
       "      <td>15</td>\n",
       "      <td>\\r\\r\\n                    Poet's Wish\\r\\r\\n</td>\n",
       "      <td>\\r\\r\\n\\r\\r\\n</td>\n",
       "      <td>William Jay Smith</td>\n",
       "      <td>NaN</td>\n",
       "    </tr>\n",
       "    <tr>\n",
       "      <th>13852</th>\n",
       "      <td>0</td>\n",
       "      <td>\\r\\r\\n                    0\\r\\r\\n</td>\n",
       "      <td>\\r\\r\\n          Philosophic\\r\\r\\nin its complex, ovoid emptiness,\\r\\r\\na skillful pundit coined it as a sort\\r\\r\\n    of stopgap doorstop for those\\r\\r\\n           quaint equations           Romans never\\r\\r\\ndreamt of. In form completely clever\\r\\r\\nand discrete—a mirror come unsilvered,     loose watch face without the works,              a hollowed globe            from tip to toe\\r\\r\\nunbroken, it evades the grappling\\r\\r\\nhooks of mass, tilts the thin rim of no thing,     remains embryonic sum,             non-cogito.\\r\\r\\n</td>\n",
       "      <td>Hailey Leithauser</td>\n",
       "      <td>Arts &amp; Sciences,Philosophy</td>\n",
       "    </tr>\n",
       "    <tr>\n",
       "      <th>13853</th>\n",
       "      <td>1</td>\n",
       "      <td>\\r\\r\\n                    !\\r\\r\\n</td>\n",
       "      <td>\\r\\r\\nDear Writers, I’m compiling the first in what I hope is a series of publications I’m calling artists among artists. The theme for issue 1 is “Faggot Dinosaur.” I hope to hear from you! Thank you and best wishes.</td>\n",
       "      <td>Wendy Videlock</td>\n",
       "      <td>Relationships,Gay, Lesbian, Queer,Arts &amp; Sciences,Poetry &amp; Poets,Social Commentaries,Gender &amp; Sexuality</td>\n",
       "    </tr>\n",
       "  </tbody>\n",
       "</table>\n",
       "</div>"
      ],
      "text/plain": [
       "       Unnamed: 0  \\\n",
       "13849          13   \n",
       "13850          14   \n",
       "13851          15   \n",
       "13852           0   \n",
       "13853           1   \n",
       "\n",
       "                                                                         Title  \\\n",
       "13849               \\r\\r\\n                    1-800-FEAR\\r\\r\\n                   \n",
       "13850  \\r\\r\\n                    The Death of Atahuallpa\\r\\r\\n                   \n",
       "13851              \\r\\r\\n                    Poet's Wish\\r\\r\\n                   \n",
       "13852                        \\r\\r\\n                    0\\r\\r\\n                   \n",
       "13853                        \\r\\r\\n                    !\\r\\r\\n                   \n",
       "\n",
       "                                                                                                                                                                                                                                                                                                                                                                                                                                                                                                                                                                                                                                                                                                                                                                Poem  \\\n",
       "13849  \\r\\r\\nWe'd  like  to  talk  with  you  about  fear they  said  so\\r\\r\\r\\nmany  people  live  in  fear  these  days  they  drove  up\\r\\r\\r\\nall  four  of  them  in  a  small  car nice   boy  they  said\\r\\r\\r\\nbeautiful  dogs they  said  so  friendly  the  man  ahead\\r\\r\\r\\nof  the  woman  the other  two  waiting  in  the  drive  I\\r\\r\\r\\nwas  outside digging up the garden no one home I said\\r\\r\\r\\nwhat   are  you  selling   anyway  I'm   not  interested  I\\r\\r\\r\\nsaid  well  you  have  a  nice  day  they  said  here's  our\\r\\r\\r\\ncard  there's   a  phone  number  you  can  call  anytime\\r\\r\\r\\nany  other   houses  down  this  road  anyone  else   live\\r\\r\\r\\nhere  we'd  like  to  talk  to  them  about  living  in  fear\\r\\r\\n   \n",
       "13850                                                                                                                                                                                                                                                                                                                                                                                                                                                                                                                                                                                                                                                                                                                                                   \\r\\r\\n\\r\\r\\n   \n",
       "13851                                                                                                                                                                                                                                                                                                                                                                                                                                                                                                                                                                                                                                                                                                                                                   \\r\\r\\n\\r\\r\\n   \n",
       "13852                                                                                                                                                                                                         \\r\\r\\n          Philosophic\\r\\r\\nin its complex, ovoid emptiness,\\r\\r\\na skillful pundit coined it as a sort\\r\\r\\n    of stopgap doorstop for those\\r\\r\\n           quaint equations           Romans never\\r\\r\\ndreamt of. In form completely clever\\r\\r\\nand discrete—a mirror come unsilvered,     loose watch face without the works,              a hollowed globe            from tip to toe\\r\\r\\nunbroken, it evades the grappling\\r\\r\\nhooks of mass, tilts the thin rim of no thing,     remains embryonic sum,             non-cogito.\\r\\r\\n   \n",
       "13853                                                                                                                                                                                                                                                                                                                                                                                                                                                                                                                                    \\r\\r\\nDear Writers, I’m compiling the first in what I hope is a series of publications I’m calling artists among artists. The theme for issue 1 is “Faggot Dinosaur.” I hope to hear from you! Thank you and best wishes.     \n",
       "\n",
       "                    Poet  \\\n",
       "13849      Jody Gladding   \n",
       "13850  William Jay Smith   \n",
       "13851  William Jay Smith   \n",
       "13852  Hailey Leithauser   \n",
       "13853     Wendy Videlock   \n",
       "\n",
       "                                                                                                          Tags  \n",
       "13849                                                               Living,Social Commentaries,Popular Culture  \n",
       "13850                                                                                                      NaN  \n",
       "13851                                                                                                      NaN  \n",
       "13852                                                                               Arts & Sciences,Philosophy  \n",
       "13853  Relationships,Gay, Lesbian, Queer,Arts & Sciences,Poetry & Poets,Social Commentaries,Gender & Sexuality  "
      ]
     },
     "execution_count": 4,
     "metadata": {},
     "output_type": "execute_result"
    }
   ],
   "source": [
    "pd.set_option('display.max_colwidth', None)\n",
    "df.tail()"
   ]
  },
  {
   "cell_type": "code",
   "execution_count": 5,
   "id": "68c8a2b5-553f-494e-bed7-b87dda4a31a0",
   "metadata": {},
   "outputs": [
    {
     "data": {
      "text/plain": [
       "Unnamed: 0      0\n",
       "Title           0\n",
       "Poem            0\n",
       "Poet            0\n",
       "Tags          955\n",
       "dtype: int64"
      ]
     },
     "execution_count": 5,
     "metadata": {},
     "output_type": "execute_result"
    }
   ],
   "source": [
    "df.isna().sum()"
   ]
  },
  {
   "cell_type": "code",
   "execution_count": 6,
   "id": "bfb30a34-a0f3-4202-b652-931b29a215a1",
   "metadata": {},
   "outputs": [],
   "source": [
    "df = df.drop(['Unnamed: 0', 'Tags', 'Poet', 'Title'], axis=1)"
   ]
  },
  {
   "cell_type": "code",
   "execution_count": 7,
   "id": "744c8e4b-7444-4c88-bceb-d1986680a5da",
   "metadata": {},
   "outputs": [],
   "source": [
    "# df['Title'] = df['Title'].str.replace('\\r', '')\n",
    "df['Poem'] = df['Poem'].str.replace('\\r', '')\n",
    "# df['Title'] = df['Title'].str.replace('\\n', '')\n",
    "df['Poem'] = df['Poem'].str.strip('\\n')"
   ]
  },
  {
   "cell_type": "code",
   "execution_count": 8,
   "id": "147cacee-0272-4883-a8b0-5e9f9cc42621",
   "metadata": {},
   "outputs": [],
   "source": [
    "# Lower case everything\n",
    "# df['Title'] = df['Title'].str.lower()\n",
    "df['Poem'] = df['Poem'].str.lower()\n",
    "\n",
    "# Remove apostrophes and join the parts\n",
    "# df['Title'] = df['Title'].str.replace(\"'\", \"\", regex=False)\n",
    "df['Poem'] = df['Poem'].str.replace(\"'\", \"\", regex=False)"
   ]
  },
  {
   "cell_type": "code",
   "execution_count": 9,
   "id": "255a982a-7b39-49eb-814f-c56e15fc6b44",
   "metadata": {},
   "outputs": [],
   "source": [
    "# Remove tokens containing numbers from the Titles\n",
    "def remove_numeric_tokens(text):\n",
    "    tokens = word_tokenize(text)\n",
    "    filtered_tokens = [token for token in tokens if token.isalpha()]\n",
    "    processed_text = ' '.join(filtered_tokens)\n",
    "    return processed_text\n",
    "z\n",
    "# df['Title'] = df['Title'].apply(remove_numeric_tokens)\n",
    "df['Poem'] = df['Poem'].apply(remove_numeric_tokens)"
   ]
  },
  {
   "cell_type": "code",
   "execution_count": 10,
   "id": "d53c2016-cbe5-4bcf-9a11-94f7abf27a6a",
   "metadata": {},
   "outputs": [],
   "source": [
    "# Uncomment only when including encoder, until then let it be commented off\n",
    "# Filter out rows where both 'Title' and 'Poem' have no alphabetic characters\n",
    "\n",
    "# df = df[df.apply(lambda x: any(c.isalpha() for c in x['Title']) and \n",
    "#                             any(c.isalpha() for c in x['Poem']), axis=1)]"
   ]
  },
  {
   "cell_type": "code",
   "execution_count": 11,
   "id": "54d2c668-0a97-4e00-8976-f5260fb83bd7",
   "metadata": {},
   "outputs": [],
   "source": [
    "# Make newline a special token\n",
    "# df['Title'] = 'START ' + df['Title'] + ' END'\n",
    "df['Poem'] = 'START ' + df['Poem'] + ' END'\n",
    "\n",
    "df['Poem'] = df['Poem'].str.replace('\\n', ' N ')"
   ]
  },
  {
   "cell_type": "code",
   "execution_count": 12,
   "id": "14b93fd6-d251-4d70-9bfb-063ee537fa3b",
   "metadata": {},
   "outputs": [
    {
     "data": {
      "text/html": [
       "<div>\n",
       "<style scoped>\n",
       "    .dataframe tbody tr th:only-of-type {\n",
       "        vertical-align: middle;\n",
       "    }\n",
       "\n",
       "    .dataframe tbody tr th {\n",
       "        vertical-align: top;\n",
       "    }\n",
       "\n",
       "    .dataframe thead th {\n",
       "        text-align: right;\n",
       "    }\n",
       "</style>\n",
       "<table border=\"1\" class=\"dataframe\">\n",
       "  <thead>\n",
       "    <tr style=\"text-align: right;\">\n",
       "      <th></th>\n",
       "      <th>Title</th>\n",
       "      <th>Poem</th>\n",
       "    </tr>\n",
       "  </thead>\n",
       "  <tbody>\n",
       "    <tr>\n",
       "      <th>13849</th>\n",
       "      <td>START  END</td>\n",
       "      <td>START wed like to talk with you about fear they said so many people live in fear these days they drove up all four of them in a small car nice boy they said beautiful dogs they said so friendly the man ahead of the woman the other two waiting in the drive i was outside digging up the garden no one home i said what are you selling anyway im not interested i said well you have a nice day they said heres our card theres a phone number you can call anytime any other houses down this road anyone else live here wed like to talk to them about living in fear END</td>\n",
       "    </tr>\n",
       "    <tr>\n",
       "      <th>13850</th>\n",
       "      <td>START the death of atahuallpa END</td>\n",
       "      <td>START  END</td>\n",
       "    </tr>\n",
       "    <tr>\n",
       "      <th>13851</th>\n",
       "      <td>START poets wish END</td>\n",
       "      <td>START  END</td>\n",
       "    </tr>\n",
       "    <tr>\n",
       "      <th>13852</th>\n",
       "      <td>START  END</td>\n",
       "      <td>START philosophic in its complex ovoid emptiness a skillful pundit coined it as a sort of stopgap doorstop for those quaint equations romans never dreamt of in form completely clever and mirror come unsilvered loose watch face without the works a hollowed globe from tip to toe unbroken it evades the grappling hooks of mass tilts the thin rim of no thing remains embryonic sum END</td>\n",
       "    </tr>\n",
       "    <tr>\n",
       "      <th>13853</th>\n",
       "      <td>START  END</td>\n",
       "      <td>START dear writers i m compiling the first in what i hope is a series of publications i m calling artists among artists the theme for issue is faggot i hope to hear from you thank you and best wishes END</td>\n",
       "    </tr>\n",
       "  </tbody>\n",
       "</table>\n",
       "</div>"
      ],
      "text/plain": [
       "                                   Title  \\\n",
       "13849                         START  END   \n",
       "13850  START the death of atahuallpa END   \n",
       "13851               START poets wish END   \n",
       "13852                         START  END   \n",
       "13853                         START  END   \n",
       "\n",
       "                                                                                                                                                                                                                                                                                                                                                                                                                                                                                                                                                                                   Poem  \n",
       "13849  START wed like to talk with you about fear they said so many people live in fear these days they drove up all four of them in a small car nice boy they said beautiful dogs they said so friendly the man ahead of the woman the other two waiting in the drive i was outside digging up the garden no one home i said what are you selling anyway im not interested i said well you have a nice day they said heres our card theres a phone number you can call anytime any other houses down this road anyone else live here wed like to talk to them about living in fear END  \n",
       "13850                                                                                                                                                                                                                                                                                                                                                                                                                                                                                                                                                                        START  END  \n",
       "13851                                                                                                                                                                                                                                                                                                                                                                                                                                                                                                                                                                        START  END  \n",
       "13852                                                                                                                                                                                     START philosophic in its complex ovoid emptiness a skillful pundit coined it as a sort of stopgap doorstop for those quaint equations romans never dreamt of in form completely clever and mirror come unsilvered loose watch face without the works a hollowed globe from tip to toe unbroken it evades the grappling hooks of mass tilts the thin rim of no thing remains embryonic sum END  \n",
       "13853                                                                                                                                                                                                                                                                                                                                                                       START dear writers i m compiling the first in what i hope is a series of publications i m calling artists among artists the theme for issue is faggot i hope to hear from you thank you and best wishes END  "
      ]
     },
     "execution_count": 12,
     "metadata": {},
     "output_type": "execute_result"
    }
   ],
   "source": [
    "df.tail()"
   ]
  },
  {
   "cell_type": "code",
   "execution_count": 13,
   "id": "b6047bbd-4793-4e2f-8253-475883f55e9d",
   "metadata": {},
   "outputs": [
    {
     "data": {
      "text/plain": [
       "Title    0\n",
       "Poem     0\n",
       "dtype: int64"
      ]
     },
     "execution_count": 13,
     "metadata": {},
     "output_type": "execute_result"
    }
   ],
   "source": [
    "df.isna().sum()"
   ]
  },
  {
   "cell_type": "code",
   "execution_count": 14,
   "id": "ed98f17a-a9cc-4c07-ac3e-73410277b1fe",
   "metadata": {},
   "outputs": [
    {
     "name": "stdout",
     "output_type": "stream",
     "text": [
      "109554\n"
     ]
    }
   ],
   "source": [
    "# Tokenize titles and poems\n",
    "tokenized_titles = df['Title'].apply(word_tokenize)\n",
    "tokenized_poems = df['Poem'].apply(word_tokenize)\n",
    "\n",
    "# Collect all tokens, including punctuation, and special characters\n",
    "all_tokens = []\n",
    "for title_words in tokenized_titles:\n",
    "    all_tokens.extend(title_words)\n",
    "for poem_words in tokenized_poems:\n",
    "    all_tokens.extend(poem_words)\n",
    "\n",
    "# Create the unique vocabulary, including special tokens\n",
    "unique_tokens = list(set(all_tokens))\n",
    "special_tokens = [\"UNK\", \"PAD\"]\n",
    "vocabulary = special_tokens + unique_tokens\n",
    "\n",
    "print(len(vocabulary))"
   ]
  },
  {
   "cell_type": "code",
   "execution_count": 15,
   "id": "a4d92899-2369-495b-8820-4fdd55598d02",
   "metadata": {},
   "outputs": [
    {
     "data": {
      "text/plain": [
       "False"
      ]
     },
     "execution_count": 15,
     "metadata": {},
     "output_type": "execute_result"
    }
   ],
   "source": [
    "'.' in unique_tokens"
   ]
  },
  {
   "cell_type": "code",
   "execution_count": 16,
   "id": "d6992223-63e9-4526-9225-4581f07c5f03",
   "metadata": {},
   "outputs": [
    {
     "data": {
      "text/plain": [
       "13854"
      ]
     },
     "execution_count": 16,
     "metadata": {},
     "output_type": "execute_result"
    }
   ],
   "source": [
    "df['Title'].size"
   ]
  },
  {
   "cell_type": "code",
   "execution_count": 17,
   "id": "0cb421f7-9dac-4651-a2cb-9167ffad6ab4",
   "metadata": {},
   "outputs": [],
   "source": [
    "vocab_size = len(vocabulary)  # Number of unique words in the vocabulary\n",
    "embedding_dim = 27  # Number of dimensions for word embeddings\n",
    "context_window_size = 5  # Number of surrounding words considered for context (adjust)\n",
    "batch_size = 10\n",
    "learning_rate = 0.01\n",
    "pad_index = 1\n",
    "heads = 3\n",
    "num_epochs = 15\n",
    "device = \"cuda\""
   ]
  },
  {
   "cell_type": "code",
   "execution_count": 18,
   "id": "3cc71826-b2db-4607-96cb-fdb8fe327305",
   "metadata": {},
   "outputs": [],
   "source": [
    "class WordEmbedder(nn.Module):\n",
    "    def __init__(self, vocab_size, embedding_dim):\n",
    "        super().__init__()\n",
    "        self.embeddings = nn.Embedding(num_embeddings=vocab_size, embedding_dim=embedding_dim)\n",
    "        \n",
    "    def forward(self, x):\n",
    "        return self.embeddings(x)"
   ]
  },
  {
   "cell_type": "code",
   "execution_count": 19,
   "id": "9b85d5c4-2744-4ae2-825b-70abd422108e",
   "metadata": {},
   "outputs": [
    {
     "name": "stdout",
     "output_type": "stream",
     "text": [
      "Length of the longest title: 15617\n"
     ]
    }
   ],
   "source": [
    "longest_length = 0\n",
    "longest_title = None\n",
    "\n",
    "for seq in tokenized_poems:\n",
    "    if len(seq) > longest_length:\n",
    "        longest_length = len(seq)\n",
    "        longest_seq = seq\n",
    "\n",
    "print(\"Length of the longest title:\", longest_length)\n",
    "# print(\"The longest seq:\", ' '.join(longest_seq))"
   ]
  },
  {
   "cell_type": "code",
   "execution_count": 20,
   "id": "0c163508-045d-4b2e-b9e2-364eb5ee1344",
   "metadata": {},
   "outputs": [
    {
     "name": "stdout",
     "output_type": "stream",
     "text": [
      "Shape of padded inputs tensor: torch.Size([13854, 15617])\n"
     ]
    }
   ],
   "source": [
    "# We map word to indexes instead of one-hot encoding as it takes up less space and is faster\n",
    "word_to_index = {word: idx for idx, word in enumerate(vocabulary)}\n",
    "index_to_word = {idx: word for word, idx in word_to_index.items()}\n",
    "\n",
    "# Add context_window_size as a factor to longest length \n",
    "# longest_length_plus_context = longest_length + (2 * context_window_size)\n",
    "\n",
    "# Replace all words in the titles and poems with their respective token indexes\n",
    "# If a word is not in the word_to_index dictionary, replace it with 0 (index of UNK)\n",
    "# indexed_titles = [[word_to_index.get(word, word_to_index[\"UNK\"]) for word in title] for title in tokenized_titles]\n",
    "indexed_poems = [[word_to_index.get(word, word_to_index[\"UNK\"]) for word in poem] for poem in tokenized_poems]\n",
    "\n",
    "# Apply padding\n",
    "pad_token = word_to_index[\"PAD\"]\n",
    "# padded_titles = torch.tensor([title + [pad_token] * (longest_length - len(title)) for title in indexed_titles]).to(device)\n",
    "padded_poems = torch.tensor([poem + [pad_token] * (longest_length - len(poem)) for poem in indexed_poems]).to(device)\n",
    "\n",
    "# Uncomment when using encoder too\n",
    "# Concatenate titles and poems one below the other\n",
    "# padded_input = torch.cat((padded_titles, padded_poems), dim=0).to(device)\n",
    "\n",
    "# Create PyTorch dataset and dataloader\n",
    "dataset = TensorDataset(padded_poems)\n",
    "data_loader = DataLoader(dataset, batch_size=batch_size, shuffle=True)\n",
    "\n",
    "# Verify shapes (optional)\n",
    "print(f\"Shape of padded inputs tensor: {padded_poems.shape}\")"
   ]
  },
  {
   "cell_type": "code",
   "execution_count": 21,
   "id": "e9b44f04-32fd-40cc-bad7-20e31826e4b9",
   "metadata": {},
   "outputs": [
    {
     "data": {
      "text/plain": [
       "15617"
      ]
     },
     "execution_count": 21,
     "metadata": {},
     "output_type": "execute_result"
    }
   ],
   "source": [
    "longest_length"
   ]
  },
  {
   "cell_type": "code",
   "execution_count": 23,
   "id": "e2e72b79-940c-4aac-9e26-6f4428469425",
   "metadata": {},
   "outputs": [],
   "source": [
    "# for i in data_loader:\n",
    "#     print(i[0].shape)\n",
    "#     break"
   ]
  },
  {
   "cell_type": "code",
   "execution_count": 24,
   "id": "99aea03e-a973-4cca-9212-fe73ca4522ab",
   "metadata": {},
   "outputs": [
    {
     "data": {
      "text/plain": [
       "0"
      ]
     },
     "execution_count": 24,
     "metadata": {},
     "output_type": "execute_result"
    }
   ],
   "source": [
    "word_to_index[\"UNK\"]"
   ]
  },
  {
   "cell_type": "code",
   "execution_count": 25,
   "id": "00f7f851-312e-4b53-a13f-857f8cc81313",
   "metadata": {},
   "outputs": [
    {
     "data": {
      "text/plain": [
       "[]"
      ]
     },
     "execution_count": 25,
     "metadata": {},
     "output_type": "execute_result"
    }
   ],
   "source": [
    "poems_with_unk = [poem for poem in indexed_poems if 0 in poem]\n",
    "poems_with_unk"
   ]
  },
  {
   "cell_type": "code",
   "execution_count": 27,
   "id": "97ec5fef-72c5-4524-b4b2-2c3df5905682",
   "metadata": {},
   "outputs": [],
   "source": [
    "# Now that we have successfully trained our word embedding layer, time to make our positional matrix, which we will make using the formula mentioned in the paper\n",
    "def positional_encoding(seq_len, embedding_dim, device=device):\n",
    "    pe = torch.zeros(seq_len, embedding_dim, device=device)\n",
    "    # Compute the positional encoding values\n",
    "    position = torch.arange(0, seq_len, dtype=torch.float, device=device).unsqueeze(1)\n",
    "    # Adjust div_term calculation to handle odd embedding_dim\n",
    "    div_term_exp = torch.arange(0, embedding_dim, 2).float() * -(np.log(10000.0) / embedding_dim)\n",
    "    div_term = torch.exp(div_term_exp).to(device)\n",
    "    pe[:, 0::2] = torch.sin(position * div_term)\n",
    "    if embedding_dim % 2 == 0:  # Check if embedding_dim is even\n",
    "        pe[:, 1::2] = torch.cos(position * div_term)  # For even embedding_dim\n",
    "    else:\n",
    "        # Adjust the last cosine computation for odd embedding_dim\n",
    "        pe[:, 1::2] = torch.cos(position * div_term)[:,:-1]  # Exclude the last column for odd embedding_dim\n",
    "    return pe"
   ]
  },
  {
   "cell_type": "code",
   "execution_count": 44,
   "id": "1fa380b5-1465-483c-b1ea-562a7978bef1",
   "metadata": {},
   "outputs": [
    {
     "data": {
      "text/plain": [
       "torch.Size([15617, 27])"
      ]
     },
     "execution_count": 44,
     "metadata": {},
     "output_type": "execute_result"
    }
   ],
   "source": [
    "encoder_pos_encoding = positional_encoding(longest_length, embedding_dim)\n",
    "encoder_pos_encoding.shape"
   ]
  },
  {
   "cell_type": "code",
   "execution_count": 29,
   "id": "eb6f80c9-fd5a-4014-8750-3724b592e8fd",
   "metadata": {},
   "outputs": [],
   "source": [
    "# Time to make the Multi-head Self Attention block\n",
    "class MultiHeadSelfAttention(nn.Module):\n",
    "    def __init__(self, heads, embedding_dim):\n",
    "        super(MultiHeadSelfAttention, self).__init__()\n",
    "        self.heads = heads\n",
    "\n",
    "        # 3 Linear Layers for Q, K and V\n",
    "        self.w_q = nn.Linear(embedding_dim, embedding_dim)\n",
    "        self.w_k = nn.Linear(embedding_dim, embedding_dim)\n",
    "        self.w_v = nn.Linear(embedding_dim, embedding_dim)\n",
    "        \n",
    "        # Since the feature or embedding dimension is typically the last dimension\n",
    "        self.softmax = nn.Softmax(dim=-1)\n",
    "\n",
    "        # Last Linear layer for the attention\n",
    "        self.w_a = nn.Linear(embedding_dim, embedding_dim)\n",
    "        \n",
    "    def forward(self, embedding_vector):\n",
    "        batch_size, seq_len, embedding_dim = embedding_vector.size()\n",
    "        # Compute Q, K, and V\n",
    "        Q = self.w_q(embedding_vector)\n",
    "        K = self.w_k(embedding_vector)\n",
    "        V = self.w_v(embedding_vector)\n",
    "\n",
    "        # Seperate into heads\n",
    "        head_dim = embedding_dim // self.heads\n",
    "        Q = Q.view(batch_size, self.heads, seq_len, head_dim)\n",
    "        K = K.view(batch_size, self.heads, seq_len, head_dim)\n",
    "        V = V.view(batch_size, self.heads, seq_len, head_dim)\n",
    "\n",
    "        # Calculate attention\n",
    "        attention = torch.matmul(self.softmax(torch.matmul(Q, K.transpose(-1, -2)) / torch.sqrt(embedding_dim)), V)\n",
    "\n",
    "        # Concatenating the attention heads (Transposing for correct concatenation)\n",
    "        attention = attention.transpose(1, 2).view(batch_size, seq_len, embedding_dim)\n",
    "        output = self.w_a(attention)\n",
    "        return output"
   ]
  },
  {
   "cell_type": "code",
   "execution_count": 30,
   "id": "6e0155ef-eee5-41c3-8c1b-48d9f40dc0ee",
   "metadata": {},
   "outputs": [],
   "source": [
    "# Time to make the Masked Multi-head Self Attention block\n",
    "class MaskedMultiHeadSelfAttention(nn.Module):\n",
    "    def __init__(self, heads, embedding_dim):\n",
    "        super(MaskedMultiHeadSelfAttention, self).__init__()\n",
    "        self.heads = heads\n",
    "\n",
    "        # 3 Linear Layers for Q, K and V\n",
    "        self.w_q = nn.Linear(embedding_dim, embedding_dim)\n",
    "        self.w_k = nn.Linear(embedding_dim, embedding_dim)\n",
    "        self.w_v = nn.Linear(embedding_dim, embedding_dim)\n",
    "        \n",
    "        # Since the feature or embedding dimension is typically the last dimension\n",
    "        self.softmax = nn.Softmax(dim=-1)\n",
    "\n",
    "        # Last Linear layer for the attention\n",
    "        self.w_a = nn.Linear(embedding_dim, embedding_dim)\n",
    "        \n",
    "    def forward(self, embedding_vector):\n",
    "        batch_size, seq_len, embedding_dim = embedding_vector.size()\n",
    "        # Compute Q, K, and V\n",
    "        Q = self.w_q(embedding_vector)\n",
    "        K = self.w_k(embedding_vector)\n",
    "        V = self.w_v(embedding_vector)\n",
    "\n",
    "        # Seperate into heads\n",
    "        head_dim = embedding_dim // self.heads\n",
    "        Q = Q.view(batch_size, self.heads, seq_len, head_dim)\n",
    "        K = K.view(batch_size, self.heads, seq_len, head_dim)\n",
    "        V = V.view(batch_size, self.heads, seq_len, head_dim)\n",
    "\n",
    "        # Create a mask for masking the attention score\n",
    "        mask = torch.triu(torch.ones(seq_len, seq_len, dtype=torch.bool), diagonal=1).unsqueeze(0).unsqueeze(0).expand(batch_size, self.heads, -1, -1)\n",
    "        value_to_fill = float('-inf')\n",
    "        \n",
    "        # Calculate attention (including mask)\n",
    "        attention = torch.matmul(self.softmax(torch.matmul(Q, K.transpose(-1, -2)).masked_fill(mask, value_to_fill) / torch.sqrt(embedding_dim)), V)\n",
    "\n",
    "        # Concatenating the attention heads (Transposing for correct concatenation)\n",
    "        attention = attention.transpose(1, 2).view(batch_size, seq_len, embedding_dim)\n",
    "        output = self.w_a(attention)\n",
    "        return output"
   ]
  },
  {
   "cell_type": "code",
   "execution_count": 31,
   "id": "c54ecdfc-9f1c-4120-8578-46e05d1c2069",
   "metadata": {},
   "outputs": [],
   "source": [
    "class AddNorm(nn.Module):\n",
    "    def __init__(self, n_features):\n",
    "        super(AddNorm, self).__init__()\n",
    "        # Layer Norm will normalize the last dimension of the matrix\n",
    "        self.norm = nn.LayerNorm(n_features)\n",
    "\n",
    "    def forward(original, modified):\n",
    "        matrix = original + modified\n",
    "        out = self.norm(matrix)\n",
    "        return out"
   ]
  },
  {
   "cell_type": "code",
   "execution_count": 32,
   "id": "a1a5b4a5-96f7-40ba-9193-ab6e0dd7ccfc",
   "metadata": {},
   "outputs": [],
   "source": [
    "class FeedForward(nn.Module):\n",
    "    def __init__(self, embedding_dim):\n",
    "        super(FeedForward, self).__init__()\n",
    "        # Normally nn.Linear(embedding_dim, embedding_dim * 4) for expressiveness, we will change it if we have the resources to do so\n",
    "        self.lr1 = nn.Linear(embedding_dim, embedding_dim)\n",
    "        self.relu = nn.ReLU()\n",
    "        self.lr2 = nn.Linear(embedding_dim, embedding_dim)\n",
    "    \n",
    "    def forward(self, x):\n",
    "        x = self.lr1(x)\n",
    "        x = self.relu(x)\n",
    "        out = self.lr2(x)\n",
    "        return out"
   ]
  },
  {
   "cell_type": "code",
   "execution_count": 33,
   "id": "9fe1f5ed-35ce-479b-b596-d2cc95a2c06c",
   "metadata": {},
   "outputs": [],
   "source": [
    "# Time to build the Decoder\n",
    "class Decoder(nn.Module):\n",
    "    def __init__(self, vocab_size, embedding_dim, batch_size, heads):\n",
    "        super(Decoder, self).__init__()\n",
    "        self.word_embedder = WordEmbedder(vocab_size, embedding_dim).to(device)\n",
    "        self.positional_encoding = positional_encoding(longest_length, embedding_dim).to(device)\n",
    "        self.masked_attention = MaskedMultiHeadSelfAttention(heads, embedding_dim).to(device)\n",
    "        self.add_norm1 = AddNorm(embedding_dim).to(device)\n",
    "        self.attention = MultiHeadSelfAttention(heads, embedding_dim).to(device)\n",
    "        self.add_norm2 = AddNorm(embedding_dim).to(device)        \n",
    "        self.feed_forward = FeedForward(embedding_dim).to(device)\n",
    "        self.add_norm3 = AddNorm(embedding_dim).to(device)\n",
    "        self.linear = nn.Linear(embedding_dim, vocab_size)\n",
    "        \n",
    "    def forward(self, x):\n",
    "        x = self.word_embedder(x)\n",
    "        x += self.positional_encoding.unsqueeze(0).expand(batch_size, -1, -1)\n",
    "        x = self.masked_attention(x)\n",
    "        x = self.add_norm1(x)\n",
    "        x = self.attention(x)\n",
    "        x = self.add_norm2(x)\n",
    "        x = self.feed_forward(x)\n",
    "        x = self.add_norm3(x)\n",
    "        logits = self.linear(x)\n",
    "        return F.softmax(logits, dim=-1)"
   ]
  },
  {
   "cell_type": "code",
   "execution_count": 34,
   "id": "881cd445-c7fb-4f2b-ae1f-d6807b2f76a5",
   "metadata": {},
   "outputs": [],
   "source": [
    "model = Decoder(vocab_size, embedding_dim, batch_size, heads).to(device)"
   ]
  },
  {
   "cell_type": "code",
   "execution_count": 35,
   "id": "3026a026-a1e7-4f12-9f82-8a78982bb1ed",
   "metadata": {},
   "outputs": [],
   "source": [
    "# Initialize our optimizer and loss function\n",
    "optimizer = torch.optim.Adam(model.parameters(), lr=learning_rate)\n",
    "loss_fn = nn.CrossEntropyLoss()"
   ]
  },
  {
   "cell_type": "code",
   "execution_count": null,
   "id": "bbfdc8bd-74e2-45f3-87ea-03c882aa2dee",
   "metadata": {},
   "outputs": [],
   "source": [
    "for epoch in range(num_epochs):\n",
    "    model.train()  # Set the model to training mode\n",
    "    total_loss = 0\n",
    "\n",
    "    for poems_batch in data_loader:\n",
    "        poems = poems_batch[0]  # Adjust based on your DataLoader setup\n",
    "        optimizer.zero_grad()\n",
    "\n",
    "        input_sequences = poems[:, :-1]  # All tokens except the last for input\n",
    "        target_sequences = poems[:, 1:]  # All tokens except the first for target\n",
    "\n",
    "        # Forward pass\n",
    "        output_logits = model(input_sequences)\n",
    "\n",
    "        # Calculate loss\n",
    "        loss = loss_fn(output_logits.transpose(1, 2), target_sequences)  # Adjust based on the model's output shape\n",
    "        total_loss += loss.item()\n",
    "\n",
    "        # Backward pass and optimization\n",
    "        loss.backward()\n",
    "        optimizer.step()\n",
    "        \n",
    "    print(f'Epoch {epoch+1}, Loss: {total_loss / len(data_loader)}')"
   ]
  },
  {
   "cell_type": "code",
   "execution_count": null,
   "id": "5132ae30-6205-4e12-a54e-b58b3f03e1bf",
   "metadata": {},
   "outputs": [],
   "source": [
    "def generate_poem(model, start_sequence, max_length=500):\n",
    "    model.eval()  # Set the model to evaluation mode.\n",
    "    tokens = start_sequence.split()  # Tokenize the start sequence.\n",
    "    generated_sequence = [word_to_index.get(word, word_to_index[\"UNK\"]) for word in tokens]  # Convert to indices.\n",
    "\n",
    "    for _ in range(max_length):\n",
    "        input_seq = torch.tensor([generated_sequence], dtype=torch.long).to(device)\n",
    "        with torch.no_grad():\n",
    "            output_logits = model(input_seq)\n",
    "        \n",
    "        # Predict the next word index.\n",
    "        next_word_id = output_logits[:, -1, :].argmax(-1).item()\n",
    "        generated_sequence.append(next_word_id)  # Append the index of the next word.\n",
    "\n",
    "        # Stop if the end token is generated.\n",
    "        if next_word_id == word_to_index[\"END\"]:\n",
    "            break\n",
    "\n",
    "    # Convert indices back to words.\n",
    "    generated_words = [index_to_word[idx] for idx in generated_sequence]\n",
    "\n",
    "    return ' '.join(generated_words)"
   ]
  },
  {
   "cell_type": "code",
   "execution_count": null,
   "id": "01b5e8f6-5146-4019-9f45-08c003279b49",
   "metadata": {},
   "outputs": [],
   "source": [
    "start_sequence = input(\"Please enter the starting words for your poem: \")\n",
    "poem = generate_poem(model, start_sequence, max_length=50) \n",
    "print(poem)\n"
   ]
  }
 ],
 "metadata": {
  "kernelspec": {
   "display_name": "Python 3 (ipykernel)",
   "language": "python",
   "name": "python3"
  },
  "language_info": {
   "codemirror_mode": {
    "name": "ipython",
    "version": 3
   },
   "file_extension": ".py",
   "mimetype": "text/x-python",
   "name": "python",
   "nbconvert_exporter": "python",
   "pygments_lexer": "ipython3",
   "version": "3.12.2"
  }
 },
 "nbformat": 4,
 "nbformat_minor": 5
}
