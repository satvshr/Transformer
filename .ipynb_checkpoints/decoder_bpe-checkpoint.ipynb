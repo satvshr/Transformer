{
 "cells": [
  {
   "cell_type": "code",
   "execution_count": 106,
   "metadata": {
    "id": "7e893663-462c-4e19-98f0-2611f454ccf7",
    "outputId": "61e055bc-b2ed-4462-c68e-32e168b344a7"
   },
   "outputs": [],
   "source": [
    "import pandas as pd\n",
    "from nltk.tokenize import word_tokenize\n",
    "import torch\n",
    "import math\n",
    "import re\n",
    "import torch.nn as nn\n",
    "from torch.nn.utils.rnn import pad_sequence\n",
    "import torch.nn.functional as F\n",
    "from torch.utils.data import TensorDataset, DataLoader\n",
    "import numpy as np\n",
    "from tokenizers import ByteLevelBPETokenizer"
   ]
  },
  {
   "cell_type": "code",
   "execution_count": 107,
   "metadata": {
    "id": "46a99932-f65a-4ffd-981b-4eb2c1c32775"
   },
   "outputs": [],
   "source": [
    "df = pd.read_csv(\"poetry.csv\")"
   ]
  },
  {
   "cell_type": "code",
   "execution_count": 108,
   "metadata": {
    "id": "259e65ac-45c6-452d-b220-6f9e3f605093",
    "outputId": "58475cf0-ef4a-48e1-95e2-8e142b742461"
   },
   "outputs": [
    {
     "data": {
      "text/html": [
       "<div>\n",
       "<style scoped>\n",
       "    .dataframe tbody tr th:only-of-type {\n",
       "        vertical-align: middle;\n",
       "    }\n",
       "\n",
       "    .dataframe tbody tr th {\n",
       "        vertical-align: top;\n",
       "    }\n",
       "\n",
       "    .dataframe thead th {\n",
       "        text-align: right;\n",
       "    }\n",
       "</style>\n",
       "<table border=\"1\" class=\"dataframe\">\n",
       "  <thead>\n",
       "    <tr style=\"text-align: right;\">\n",
       "      <th></th>\n",
       "      <th>Unnamed: 0</th>\n",
       "      <th>Title</th>\n",
       "      <th>Poem</th>\n",
       "      <th>Poet</th>\n",
       "      <th>Tags</th>\n",
       "    </tr>\n",
       "  </thead>\n",
       "  <tbody>\n",
       "    <tr>\n",
       "      <th>13849</th>\n",
       "      <td>13</td>\n",
       "      <td>\\r\\r\\n                    1-800-FEAR\\r\\r\\n</td>\n",
       "      <td>\\r\\r\\nWe'd  like  to  talk  with  you  about  fear they  said  so\\r\\r\\r\\nmany  people  live  in  fear  these  days  they  drove  up\\r\\r\\r\\nall  four  of  them  in  a  small  car nice   boy  they  said\\r\\r\\r\\nbeautiful  dogs they  said  so  friendly  the  man  ahead\\r\\r\\r\\nof  the  woman  the other  two  waiting  in  the  drive  I\\r\\r\\r\\nwas  outside digging up the garden no one home I said\\r\\r\\r\\nwhat   are  you  selling   anyway  I'm   not  interested  I\\r\\r\\r\\nsaid  well  you  have  a  nice  day  they  said  here's  our\\r\\r\\r\\ncard  there's   a  phone  number  you  can  call  anytime\\r\\r\\r\\nany  other   houses  down  this  road  anyone  else   live\\r\\r\\r\\nhere  we'd  like  to  talk  to  them  about  living  in  fear\\r\\r\\n</td>\n",
       "      <td>Jody Gladding</td>\n",
       "      <td>Living,Social Commentaries,Popular Culture</td>\n",
       "    </tr>\n",
       "    <tr>\n",
       "      <th>13850</th>\n",
       "      <td>14</td>\n",
       "      <td>\\r\\r\\n                    The Death of Atahuallpa\\r\\r\\n</td>\n",
       "      <td>\\r\\r\\n\\r\\r\\n</td>\n",
       "      <td>William Jay Smith</td>\n",
       "      <td>NaN</td>\n",
       "    </tr>\n",
       "    <tr>\n",
       "      <th>13851</th>\n",
       "      <td>15</td>\n",
       "      <td>\\r\\r\\n                    Poet's Wish\\r\\r\\n</td>\n",
       "      <td>\\r\\r\\n\\r\\r\\n</td>\n",
       "      <td>William Jay Smith</td>\n",
       "      <td>NaN</td>\n",
       "    </tr>\n",
       "    <tr>\n",
       "      <th>13852</th>\n",
       "      <td>0</td>\n",
       "      <td>\\r\\r\\n                    0\\r\\r\\n</td>\n",
       "      <td>\\r\\r\\n          Philosophic\\r\\r\\nin its complex, ovoid emptiness,\\r\\r\\na skillful pundit coined it as a sort\\r\\r\\n    of stopgap doorstop for those\\r\\r\\n           quaint equations           Romans never\\r\\r\\ndreamt of. In form completely clever\\r\\r\\nand discrete—a mirror come unsilvered,     loose watch face without the works,              a hollowed globe            from tip to toe\\r\\r\\nunbroken, it evades the grappling\\r\\r\\nhooks of mass, tilts the thin rim of no thing,     remains embryonic sum,             non-cogito.\\r\\r\\n</td>\n",
       "      <td>Hailey Leithauser</td>\n",
       "      <td>Arts &amp; Sciences,Philosophy</td>\n",
       "    </tr>\n",
       "    <tr>\n",
       "      <th>13853</th>\n",
       "      <td>1</td>\n",
       "      <td>\\r\\r\\n                    !\\r\\r\\n</td>\n",
       "      <td>\\r\\r\\nDear Writers, I’m compiling the first in what I hope is a series of publications I’m calling artists among artists. The theme for issue 1 is “Faggot Dinosaur.” I hope to hear from you! Thank you and best wishes.</td>\n",
       "      <td>Wendy Videlock</td>\n",
       "      <td>Relationships,Gay, Lesbian, Queer,Arts &amp; Sciences,Poetry &amp; Poets,Social Commentaries,Gender &amp; Sexuality</td>\n",
       "    </tr>\n",
       "  </tbody>\n",
       "</table>\n",
       "</div>"
      ],
      "text/plain": [
       "       Unnamed: 0  \\\n",
       "13849          13   \n",
       "13850          14   \n",
       "13851          15   \n",
       "13852           0   \n",
       "13853           1   \n",
       "\n",
       "                                                                         Title  \\\n",
       "13849               \\r\\r\\n                    1-800-FEAR\\r\\r\\n                   \n",
       "13850  \\r\\r\\n                    The Death of Atahuallpa\\r\\r\\n                   \n",
       "13851              \\r\\r\\n                    Poet's Wish\\r\\r\\n                   \n",
       "13852                        \\r\\r\\n                    0\\r\\r\\n                   \n",
       "13853                        \\r\\r\\n                    !\\r\\r\\n                   \n",
       "\n",
       "                                                                                                                                                                                                                                                                                                                                                                                                                                                                                                                                                                                                                                                                                                                                                                Poem  \\\n",
       "13849  \\r\\r\\nWe'd  like  to  talk  with  you  about  fear they  said  so\\r\\r\\r\\nmany  people  live  in  fear  these  days  they  drove  up\\r\\r\\r\\nall  four  of  them  in  a  small  car nice   boy  they  said\\r\\r\\r\\nbeautiful  dogs they  said  so  friendly  the  man  ahead\\r\\r\\r\\nof  the  woman  the other  two  waiting  in  the  drive  I\\r\\r\\r\\nwas  outside digging up the garden no one home I said\\r\\r\\r\\nwhat   are  you  selling   anyway  I'm   not  interested  I\\r\\r\\r\\nsaid  well  you  have  a  nice  day  they  said  here's  our\\r\\r\\r\\ncard  there's   a  phone  number  you  can  call  anytime\\r\\r\\r\\nany  other   houses  down  this  road  anyone  else   live\\r\\r\\r\\nhere  we'd  like  to  talk  to  them  about  living  in  fear\\r\\r\\n   \n",
       "13850                                                                                                                                                                                                                                                                                                                                                                                                                                                                                                                                                                                                                                                                                                                                                   \\r\\r\\n\\r\\r\\n   \n",
       "13851                                                                                                                                                                                                                                                                                                                                                                                                                                                                                                                                                                                                                                                                                                                                                   \\r\\r\\n\\r\\r\\n   \n",
       "13852                                                                                                                                                                                                         \\r\\r\\n          Philosophic\\r\\r\\nin its complex, ovoid emptiness,\\r\\r\\na skillful pundit coined it as a sort\\r\\r\\n    of stopgap doorstop for those\\r\\r\\n           quaint equations           Romans never\\r\\r\\ndreamt of. In form completely clever\\r\\r\\nand discrete—a mirror come unsilvered,     loose watch face without the works,              a hollowed globe            from tip to toe\\r\\r\\nunbroken, it evades the grappling\\r\\r\\nhooks of mass, tilts the thin rim of no thing,     remains embryonic sum,             non-cogito.\\r\\r\\n   \n",
       "13853                                                                                                                                                                                                                                                                                                                                                                                                                                                                                                                                    \\r\\r\\nDear Writers, I’m compiling the first in what I hope is a series of publications I’m calling artists among artists. The theme for issue 1 is “Faggot Dinosaur.” I hope to hear from you! Thank you and best wishes.     \n",
       "\n",
       "                    Poet  \\\n",
       "13849      Jody Gladding   \n",
       "13850  William Jay Smith   \n",
       "13851  William Jay Smith   \n",
       "13852  Hailey Leithauser   \n",
       "13853     Wendy Videlock   \n",
       "\n",
       "                                                                                                          Tags  \n",
       "13849                                                               Living,Social Commentaries,Popular Culture  \n",
       "13850                                                                                                      NaN  \n",
       "13851                                                                                                      NaN  \n",
       "13852                                                                               Arts & Sciences,Philosophy  \n",
       "13853  Relationships,Gay, Lesbian, Queer,Arts & Sciences,Poetry & Poets,Social Commentaries,Gender & Sexuality  "
      ]
     },
     "execution_count": 108,
     "metadata": {},
     "output_type": "execute_result"
    }
   ],
   "source": [
    "pd.set_option('display.max_colwidth', None)\n",
    "df.tail()"
   ]
  },
  {
   "cell_type": "code",
   "execution_count": 109,
   "metadata": {
    "id": "68c8a2b5-553f-494e-bed7-b87dda4a31a0",
    "outputId": "da4a73cb-8836-426c-d431-512c1d447694"
   },
   "outputs": [
    {
     "data": {
      "text/plain": [
       "Unnamed: 0      0\n",
       "Title           0\n",
       "Poem            0\n",
       "Poet            0\n",
       "Tags          955\n",
       "dtype: int64"
      ]
     },
     "execution_count": 109,
     "metadata": {},
     "output_type": "execute_result"
    }
   ],
   "source": [
    "df.isna().sum()"
   ]
  },
  {
   "cell_type": "code",
   "execution_count": 110,
   "metadata": {
    "id": "bfb30a34-a0f3-4202-b652-931b29a215a1"
   },
   "outputs": [],
   "source": [
    "df = df.drop(['Unnamed: 0', 'Tags', 'Poet', 'Title'], axis=1)"
   ]
  },
  {
   "cell_type": "code",
   "execution_count": 111,
   "metadata": {
    "id": "744c8e4b-7444-4c88-bceb-d1986680a5da"
   },
   "outputs": [],
   "source": [
    "# df['Title'] = df['Title'].str.replace('\\r', '')\n",
    "df['Poem'] = df['Poem'].str.replace('\\r', '')\n",
    "# df['Title'] = df['Title'].str.replace('\\n', '')\n",
    "df['Poem'] = df['Poem'].str.strip('\\n')"
   ]
  },
  {
   "cell_type": "code",
   "execution_count": 112,
   "metadata": {},
   "outputs": [
    {
     "data": {
      "text/html": [
       "<div>\n",
       "<style scoped>\n",
       "    .dataframe tbody tr th:only-of-type {\n",
       "        vertical-align: middle;\n",
       "    }\n",
       "\n",
       "    .dataframe tbody tr th {\n",
       "        vertical-align: top;\n",
       "    }\n",
       "\n",
       "    .dataframe thead th {\n",
       "        text-align: right;\n",
       "    }\n",
       "</style>\n",
       "<table border=\"1\" class=\"dataframe\">\n",
       "  <thead>\n",
       "    <tr style=\"text-align: right;\">\n",
       "      <th></th>\n",
       "      <th>Poem</th>\n",
       "    </tr>\n",
       "  </thead>\n",
       "  <tbody>\n",
       "    <tr>\n",
       "      <th>13849</th>\n",
       "      <td>We'd  like  to  talk  with  you  about  fear they  said  so\\nmany  people  live  in  fear  these  days  they  drove  up\\nall  four  of  them  in  a  small  car nice   boy  they  said\\nbeautiful  dogs they  said  so  friendly  the  man  ahead\\nof  the  woman  the other  two  waiting  in  the  drive  I\\nwas  outside digging up the garden no one home I said\\nwhat   are  you  selling   anyway  I'm   not  interested  I\\nsaid  well  you  have  a  nice  day  they  said  here's  our\\ncard  there's   a  phone  number  you  can  call  anytime\\nany  other   houses  down  this  road  anyone  else   live\\nhere  we'd  like  to  talk  to  them  about  living  in  fear</td>\n",
       "    </tr>\n",
       "    <tr>\n",
       "      <th>13850</th>\n",
       "      <td></td>\n",
       "    </tr>\n",
       "    <tr>\n",
       "      <th>13851</th>\n",
       "      <td></td>\n",
       "    </tr>\n",
       "    <tr>\n",
       "      <th>13852</th>\n",
       "      <td>Philosophic\\nin its complex, ovoid emptiness,\\na skillful pundit coined it as a sort\\n    of stopgap doorstop for those\\n           quaint equations           Romans never\\ndreamt of. In form completely clever\\nand discrete—a mirror come unsilvered,     loose watch face without the works,              a hollowed globe            from tip to toe\\nunbroken, it evades the grappling\\nhooks of mass, tilts the thin rim of no thing,     remains embryonic sum,             non-cogito.</td>\n",
       "    </tr>\n",
       "    <tr>\n",
       "      <th>13853</th>\n",
       "      <td>Dear Writers, I’m compiling the first in what I hope is a series of publications I’m calling artists among artists. The theme for issue 1 is “Faggot Dinosaur.” I hope to hear from you! Thank you and best wishes.</td>\n",
       "    </tr>\n",
       "  </tbody>\n",
       "</table>\n",
       "</div>"
      ],
      "text/plain": [
       "                                                                                                                                                                                                                                                                                                                                                                                                                                                                                                                                                                                                                                                                                        Poem\n",
       "13849  We'd  like  to  talk  with  you  about  fear they  said  so\\nmany  people  live  in  fear  these  days  they  drove  up\\nall  four  of  them  in  a  small  car nice   boy  they  said\\nbeautiful  dogs they  said  so  friendly  the  man  ahead\\nof  the  woman  the other  two  waiting  in  the  drive  I\\nwas  outside digging up the garden no one home I said\\nwhat   are  you  selling   anyway  I'm   not  interested  I\\nsaid  well  you  have  a  nice  day  they  said  here's  our\\ncard  there's   a  phone  number  you  can  call  anytime\\nany  other   houses  down  this  road  anyone  else   live\\nhere  we'd  like  to  talk  to  them  about  living  in  fear\n",
       "13850                                                                                                                                                                                                                                                                                                                                                                                                                                                                                                                                                                                                                                                                                       \n",
       "13851                                                                                                                                                                                                                                                                                                                                                                                                                                                                                                                                                                                                                                                                                       \n",
       "13852                                                                                                                                                                                       Philosophic\\nin its complex, ovoid emptiness,\\na skillful pundit coined it as a sort\\n    of stopgap doorstop for those\\n           quaint equations           Romans never\\ndreamt of. In form completely clever\\nand discrete—a mirror come unsilvered,     loose watch face without the works,              a hollowed globe            from tip to toe\\nunbroken, it evades the grappling\\nhooks of mass, tilts the thin rim of no thing,     remains embryonic sum,             non-cogito.\n",
       "13853                                                                                                                                                                                                                                                                                                                                                                                                                                                                  Dear Writers, I’m compiling the first in what I hope is a series of publications I’m calling artists among artists. The theme for issue 1 is “Faggot Dinosaur.” I hope to hear from you! Thank you and best wishes.  "
      ]
     },
     "execution_count": 112,
     "metadata": {},
     "output_type": "execute_result"
    }
   ],
   "source": [
    "df.tail()"
   ]
  },
  {
   "cell_type": "code",
   "execution_count": 113,
   "metadata": {
    "id": "147cacee-0272-4883-a8b0-5e9f9cc42621"
   },
   "outputs": [],
   "source": [
    "# Lower case everything\n",
    "# df['Title'] = df['Title'].str.lower()\n",
    "df['Poem'] = df['Poem'].str.lower()\n",
    "\n",
    "# Remove apostrophes and join the parts\n",
    "# df['Title'] = df['Title'].str.replace(\"'\", \"\", regex=False).str.replace(\"’\", \"\", regex=False)\n",
    "df['Poem'] = df['Poem'].str.replace(\"'\", \"\", regex=False).str.replace(\"’\", \"\", regex=False)"
   ]
  },
  {
   "cell_type": "code",
   "execution_count": 114,
   "metadata": {
    "id": "d53c2016-cbe5-4bcf-9a11-94f7abf27a6a"
   },
   "outputs": [],
   "source": [
    "# Uncomment only when including encoder, until then let it be commented off\n",
    "# Filter out rows where both 'Title' and 'Poem' have no alphabetic characters\n",
    "\n",
    "# df = df[df.apply(lambda x: any(c.isalpha() for c in x['Title']) and\n",
    "#                             any(c.isalpha() for c in x['Poem']), axis=1)]\n",
    "\n",
    "# Filter out rows with no value (its not NaN its '' in this dataset)\n",
    "df = df[df.apply(lambda x: any(c.isalpha() for c in x['Poem']), axis=1)]"
   ]
  },
  {
   "cell_type": "code",
   "execution_count": 115,
   "metadata": {
    "id": "54d2c668-0a97-4e00-8976-f5260fb83bd7",
    "outputId": "f54c2dde-9fba-4202-ab82-9fa8cd55c526"
   },
   "outputs": [],
   "source": [
    "# Make newline a special token\n",
    "# df['Title'] = 'START ' + df['Title'] + ' END'\n",
    "df['Poem'] = 'START ' + df['Poem'] + ' END'\n",
    "\n",
    "df['Poem'] = df['Poem'].apply(lambda x: re.sub(r'\\n', ' N ', x))"
   ]
  },
  {
   "cell_type": "code",
   "execution_count": 116,
   "metadata": {
    "id": "255a982a-7b39-49eb-814f-c56e15fc6b44"
   },
   "outputs": [],
   "source": [
    "def remove_numeric_tokens(text):\n",
    "    tokens = word_tokenize(text)\n",
    "    # Filter tokens to exclude any that contain digits\n",
    "    filtered_tokens = [token for token in tokens if not re.search(r'\\d', token)]\n",
    "    processed_text = ' '.join(filtered_tokens)\n",
    "    return processed_text\n",
    "\n",
    "df['Poem'] = df['Poem'].apply(remove_numeric_tokens)"
   ]
  },
  {
   "cell_type": "code",
   "execution_count": 117,
   "metadata": {},
   "outputs": [
    {
     "data": {
      "text/html": [
       "<div>\n",
       "<style scoped>\n",
       "    .dataframe tbody tr th:only-of-type {\n",
       "        vertical-align: middle;\n",
       "    }\n",
       "\n",
       "    .dataframe tbody tr th {\n",
       "        vertical-align: top;\n",
       "    }\n",
       "\n",
       "    .dataframe thead th {\n",
       "        text-align: right;\n",
       "    }\n",
       "</style>\n",
       "<table border=\"1\" class=\"dataframe\">\n",
       "  <thead>\n",
       "    <tr style=\"text-align: right;\">\n",
       "      <th></th>\n",
       "      <th>Poem</th>\n",
       "    </tr>\n",
       "  </thead>\n",
       "  <tbody>\n",
       "    <tr>\n",
       "      <th>13835</th>\n",
       "      <td>START dear writers , im compiling the first in what i hope is a series of publications im calling artists among artists . the theme for issue is “ faggot dinosaur. ” i hope to hear from you ! thank you and best wishes . END</td>\n",
       "    </tr>\n",
       "    <tr>\n",
       "      <th>13848</th>\n",
       "      <td>START the wise men will unlearn your name . N above your head no star will flame . N one weary sound will be the same— N the hoarse roar of the gale . N the shadows fall from your tired eyes N as your lone bedside candle dies , N for here the calendar breeds nights N till stores of candles fail . N what prompts this melancholy key ? N a long familiar melody . N it sounds again . so let it be . N let it sound from this night . N let it sound in my hour of death— N as gratefulness of eyes and lips N for that which sometimes makes us lift N our gaze to the far sky . N you glare in silence at the wall . N your stocking gapes : no gifts at all . N its clear that you are now too old N to trust in good saint nick ; N that its too late for miracles . N —but suddenly , lifting your eyes N to heavens light , you realize : N your life is a sheer gift . END</td>\n",
       "    </tr>\n",
       "    <tr>\n",
       "      <th>13849</th>\n",
       "      <td>START wed like to talk with you about fear they said so N many people live in fear these days they drove up N all four of them in a small car nice boy they said N beautiful dogs they said so friendly the man ahead N of the woman the other two waiting in the drive i N was outside digging up the garden no one home i said N what are you selling anyway im not interested i N said well you have a nice day they said heres our N card theres a phone number you can call anytime N any other houses down this road anyone else live N here wed like to talk to them about living in fear END</td>\n",
       "    </tr>\n",
       "    <tr>\n",
       "      <th>13852</th>\n",
       "      <td>START philosophic N in its complex , ovoid emptiness , N a skillful pundit coined it as a sort N of stopgap doorstop for those N quaint equations romans never N dreamt of . in form completely clever N and discrete—a mirror come unsilvered , loose watch face without the works , a hollowed globe from tip to toe N unbroken , it evades the grappling N hooks of mass , tilts the thin rim of no thing , remains embryonic sum , non-cogito . END</td>\n",
       "    </tr>\n",
       "    <tr>\n",
       "      <th>13853</th>\n",
       "      <td>START dear writers , im compiling the first in what i hope is a series of publications im calling artists among artists . the theme for issue is “ faggot dinosaur. ” i hope to hear from you ! thank you and best wishes . END</td>\n",
       "    </tr>\n",
       "  </tbody>\n",
       "</table>\n",
       "</div>"
      ],
      "text/plain": [
       "                                                                                                                                                                                                                                                                                                                                                                                                                                                                                                                                                                                                                                                                                                                                                                                                                                                                                            Poem\n",
       "13835                                                                                                                                                                                                                                                                                                                                                                                                                                                                                                                                                                                                                                                            START dear writers , im compiling the first in what i hope is a series of publications im calling artists among artists . the theme for issue is “ faggot dinosaur. ” i hope to hear from you ! thank you and best wishes . END\n",
       "13848  START the wise men will unlearn your name . N above your head no star will flame . N one weary sound will be the same— N the hoarse roar of the gale . N the shadows fall from your tired eyes N as your lone bedside candle dies , N for here the calendar breeds nights N till stores of candles fail . N what prompts this melancholy key ? N a long familiar melody . N it sounds again . so let it be . N let it sound from this night . N let it sound in my hour of death— N as gratefulness of eyes and lips N for that which sometimes makes us lift N our gaze to the far sky . N you glare in silence at the wall . N your stocking gapes : no gifts at all . N its clear that you are now too old N to trust in good saint nick ; N that its too late for miracles . N —but suddenly , lifting your eyes N to heavens light , you realize : N your life is a sheer gift . END\n",
       "13849                                                                                                                                                                                                                                                                                       START wed like to talk with you about fear they said so N many people live in fear these days they drove up N all four of them in a small car nice boy they said N beautiful dogs they said so friendly the man ahead N of the woman the other two waiting in the drive i N was outside digging up the garden no one home i said N what are you selling anyway im not interested i N said well you have a nice day they said heres our N card theres a phone number you can call anytime N any other houses down this road anyone else live N here wed like to talk to them about living in fear END\n",
       "13852                                                                                                                                                                                                                                                                                                                                                                                                                                    START philosophic N in its complex , ovoid emptiness , N a skillful pundit coined it as a sort N of stopgap doorstop for those N quaint equations romans never N dreamt of . in form completely clever N and discrete—a mirror come unsilvered , loose watch face without the works , a hollowed globe from tip to toe N unbroken , it evades the grappling N hooks of mass , tilts the thin rim of no thing , remains embryonic sum , non-cogito . END\n",
       "13853                                                                                                                                                                                                                                                                                                                                                                                                                                                                                                                                                                                                                                                            START dear writers , im compiling the first in what i hope is a series of publications im calling artists among artists . the theme for issue is “ faggot dinosaur. ” i hope to hear from you ! thank you and best wishes . END"
      ]
     },
     "execution_count": 117,
     "metadata": {},
     "output_type": "execute_result"
    }
   ],
   "source": [
    "df.tail()"
   ]
  },
  {
   "cell_type": "code",
   "execution_count": 118,
   "metadata": {
    "id": "b6047bbd-4793-4e2f-8253-475883f55e9d",
    "outputId": "db82f9b3-d82f-4f8c-d1fd-1aa8eaeaeed2"
   },
   "outputs": [
    {
     "data": {
      "text/plain": [
       "Poem    0\n",
       "dtype: int64"
      ]
     },
     "execution_count": 118,
     "metadata": {},
     "output_type": "execute_result"
    }
   ],
   "source": [
    "df.isna().sum()"
   ]
  },
  {
   "cell_type": "code",
   "execution_count": 119,
   "metadata": {
    "id": "9e54db8f-fd00-4736-972c-95dbfb990694",
    "outputId": "f57c1f35-ecd6-41a3-a1cc-5d6f1b568206"
   },
   "outputs": [
    {
     "data": {
      "text/plain": [
       "13751"
      ]
     },
     "execution_count": 119,
     "metadata": {},
     "output_type": "execute_result"
    }
   ],
   "source": [
    "df.size"
   ]
  },
  {
   "cell_type": "code",
   "execution_count": 120,
   "metadata": {},
   "outputs": [],
   "source": [
    "tokenizer = ByteLevelBPETokenizer()\n",
    "\n",
    "# Saving poems to a file (required for tokenizer training)\n",
    "poem_file = \"poems.txt\"\n",
    "with open(poem_file, \"w\", encoding='utf-8') as file:  # Specify UTF-8 encoding\n",
    "    file.write('\\n'.join(df['Poem']))\n",
    "\n",
    "# Train the tokenizer on the poems\n",
    "tokenizer.train(files=[poem_file], vocab_size=30000, min_frequency=1, special_tokens=[\"START\", \"END\", \"N\", \"UNK\", \"PAD\"])"
   ]
  },
  {
   "cell_type": "code",
   "execution_count": 121,
   "metadata": {},
   "outputs": [
    {
     "name": "stdout",
     "output_type": "stream",
     "text": [
      "Top 15 longest tokenized poem lengths: [22321, 14606, 13912, 12385, 11251, 10661, 10216, 9995, 9930, 9822, 9761, 9622, 8799, 8577, 8125]\n"
     ]
    }
   ],
   "source": [
    "df['Tokenized_Poem'] = df['Poem'].apply(lambda poem: tokenizer.encode(poem).ids)\n",
    "token_lengths = [len(tokens) for tokens in df['Tokenized_Poem']]\n",
    "sorted_lengths = sorted(token_lengths, reverse=True)\n",
    "top_15_lengths = sorted_lengths[:15]\n",
    "print(\"Top 15 longest tokenized poem lengths:\", top_15_lengths)\n",
    "\n",
    "# Padding poems to the length of the longest poem\n",
    "longest_length = max(token_lengths)"
   ]
  },
  {
   "cell_type": "code",
   "execution_count": 122,
   "metadata": {
    "id": "0cb421f7-9dac-4651-a2cb-9167ffad6ab4"
   },
   "outputs": [],
   "source": [
    "vocab_size = tokenizer.get_vocab_size()  # Number of unique words in the vocabulary\n",
    "embedding_dim = 18  # Number of dimensions for word embeddings\n",
    "batch_size = 1\n",
    "learning_rate = 0.001 # changed lr because maybe the embedding dim is too low and lr is too high so gradient is just bouncing around and not learning much\n",
    "pad_index = 1\n",
    "heads = 3\n",
    "epochs = 3\n",
    "device = \"cuda\""
   ]
  },
  {
   "cell_type": "code",
   "execution_count": 123,
   "metadata": {
    "id": "0c163508-045d-4b2e-b9e2-364eb5ee1344",
    "outputId": "89bfa492-bc5d-4f58-fbab-35be98fa5fa2"
   },
   "outputs": [
    {
     "name": "stdout",
     "output_type": "stream",
     "text": [
      "Shape of padded inputs tensor: torch.Size([13751, 22321])\n"
     ]
    }
   ],
   "source": [
    "pad_token = tokenizer.token_to_id(\"PAD\")\n",
    "padded_poems = torch.tensor([poem + [pad_token] * (longest_length - len(poem)) for poem in df['Tokenized_Poem']])\n",
    "\n",
    "# Creating PyTorch DataLoader\n",
    "dataset = TensorDataset(padded_poems)\n",
    "data_loader = DataLoader(dataset, batch_size=batch_size, shuffle=True)\n",
    "\n",
    "# Verify shapes (optional)\n",
    "print(f\"Shape of padded inputs tensor: {padded_poems.shape}\")"
   ]
  },
  {
   "cell_type": "code",
   "execution_count": null,
   "metadata": {
    "id": "e2e72b79-940c-4aac-9e26-6f4428469425"
   },
   "outputs": [],
   "source": [
    "# for i in data_loader:\n",
    "#     print(i[0].shape)\n",
    "#     break"
   ]
  },
  {
   "cell_type": "code",
   "execution_count": 124,
   "metadata": {},
   "outputs": [
    {
     "data": {
      "text/plain": [
       "4"
      ]
     },
     "execution_count": 124,
     "metadata": {},
     "output_type": "execute_result"
    }
   ],
   "source": [
    "pad_token"
   ]
  },
  {
   "cell_type": "code",
   "execution_count": 125,
   "metadata": {
    "id": "99aea03e-a973-4cca-9212-fe73ca4522ab",
    "outputId": "57ef5631-bfe3-41c8-b15a-98fd627058fb"
   },
   "outputs": [
    {
     "data": {
      "text/plain": [
       "0"
      ]
     },
     "execution_count": 125,
     "metadata": {},
     "output_type": "execute_result"
    }
   ],
   "source": [
    "word_to_index[\"UNK\"]"
   ]
  },
  {
   "cell_type": "code",
   "execution_count": 127,
   "metadata": {
    "id": "3cc71826-b2db-4607-96cb-fdb8fe327305"
   },
   "outputs": [],
   "source": [
    "class WordEmbedder(nn.Module):\n",
    "    def __init__(self, vocab_size, embedding_dim):\n",
    "        super().__init__()\n",
    "        self.embeddings = nn.Embedding(num_embeddings=vocab_size, embedding_dim=embedding_dim)\n",
    "\n",
    "    def forward(self, x):\n",
    "        return self.embeddings(x)"
   ]
  },
  {
   "cell_type": "code",
   "execution_count": 128,
   "metadata": {
    "id": "97ec5fef-72c5-4524-b4b2-2c3df5905682"
   },
   "outputs": [],
   "source": [
    "# Now that we have successfully trained our word embedding layer, time to make our positional matrix, which we will make using the formula mentioned in the paper\n",
    "def positional_encoding(seq_len, embedding_dim, device=device):\n",
    "    pe = torch.zeros(seq_len, embedding_dim, device=device)\n",
    "    # Compute the positional encoding values\n",
    "    position = torch.arange(0, seq_len, dtype=torch.float, device=device).unsqueeze(1)\n",
    "    # Adjust div_term calculation to handle odd embedding_dim\n",
    "    div_term_exp = torch.arange(0, embedding_dim, 2).float() * -(np.log(10000.0) / embedding_dim)\n",
    "    div_term = torch.exp(div_term_exp).to(device)\n",
    "    pe[:, 0::2] = torch.sin(position * div_term)\n",
    "    if embedding_dim % 2 == 0:  # Check if embedding_dim is even\n",
    "        pe[:, 1::2] = torch.cos(position * div_term)  # For even embedding_dim\n",
    "    else:\n",
    "        # Adjust the last cosine computation for odd embedding_dim\n",
    "        pe[:, 1::2] = torch.cos(position * div_term)[:,:-1]  # Exclude the last column for odd embedding_dim\n",
    "    return pe"
   ]
  },
  {
   "cell_type": "code",
   "execution_count": 129,
   "metadata": {
    "id": "1fa380b5-1465-483c-b1ea-562a7978bef1",
    "outputId": "4444a8ef-2bd6-4ead-a933-5a541c013a90"
   },
   "outputs": [
    {
     "data": {
      "text/plain": [
       "torch.Size([22321, 15])"
      ]
     },
     "execution_count": 129,
     "metadata": {},
     "output_type": "execute_result"
    }
   ],
   "source": [
    "encoder_pos_encoding = positional_encoding(longest_length, embedding_dim)\n",
    "encoder_pos_encoding.shape"
   ]
  },
  {
   "cell_type": "code",
   "execution_count": 130,
   "metadata": {
    "id": "eb6f80c9-fd5a-4014-8750-3724b592e8fd"
   },
   "outputs": [],
   "source": [
    "# Time to make the Multi-head Self Attention block\n",
    "class MultiHeadSelfAttention(nn.Module):\n",
    "    def __init__(self, heads, embedding_dim):\n",
    "        super(MultiHeadSelfAttention, self).__init__()\n",
    "        self.heads = heads\n",
    "\n",
    "        # 3 Linear Layers for Q, K and V\n",
    "        self.w_q = nn.Linear(embedding_dim, embedding_dim)\n",
    "        self.w_k = nn.Linear(embedding_dim, embedding_dim)\n",
    "        self.w_v = nn.Linear(embedding_dim, embedding_dim)\n",
    "\n",
    "        # Since the feature or embedding dimension is typically the last dimension\n",
    "        self.softmax = nn.Softmax(dim=-1)\n",
    "\n",
    "        # Last Linear layer for the attention\n",
    "        self.w_a = nn.Linear(embedding_dim, embedding_dim)\n",
    "\n",
    "    def forward(self, embedding_vector):\n",
    "        batch_size, seq_len, embedding_dim = embedding_vector.size()\n",
    "        # Compute Q, K, and V\n",
    "        Q = self.w_q(embedding_vector)\n",
    "        K = self.w_k(embedding_vector)\n",
    "        V = self.w_v(embedding_vector)\n",
    "\n",
    "        # Seperate into heads\n",
    "        head_dim = embedding_dim // self.heads\n",
    "        Q = Q.view(batch_size, self.heads, seq_len, head_dim)\n",
    "        K = K.view(batch_size, self.heads, seq_len, head_dim)\n",
    "        V = V.view(batch_size, self.heads, seq_len, head_dim)\n",
    "\n",
    "        # Calculate attention\n",
    "        attention = torch.matmul(self.softmax(torch.matmul(Q, K.transpose(-1, -2)) / torch.sqrt(torch.tensor(embedding_dim))), V)\n",
    "\n",
    "        # Concatenating the attention heads (Transposing for correct concatenation)\n",
    "        attention = attention.transpose(1, 2).reshape(batch_size, seq_len, embedding_dim)\n",
    "        output = self.w_a(attention)\n",
    "        return output"
   ]
  },
  {
   "cell_type": "code",
   "execution_count": 131,
   "metadata": {
    "id": "6e0155ef-eee5-41c3-8c1b-48d9f40dc0ee"
   },
   "outputs": [],
   "source": [
    "# Time to make the Masked Multi-head Self Attention block\n",
    "class MaskedMultiHeadSelfAttention(nn.Module):\n",
    "    def __init__(self, heads, embedding_dim):\n",
    "        super(MaskedMultiHeadSelfAttention, self).__init__()\n",
    "        self.heads = heads\n",
    "\n",
    "        # 3 Linear Layers for Q, K and V\n",
    "        self.w_q = nn.Linear(embedding_dim, embedding_dim)\n",
    "        self.w_k = nn.Linear(embedding_dim, embedding_dim)\n",
    "        self.w_v = nn.Linear(embedding_dim, embedding_dim)\n",
    "\n",
    "        # Since the feature or embedding dimension is typically the last dimension\n",
    "        self.softmax = nn.Softmax(dim=-1)\n",
    "\n",
    "        # Last Linear layer for the attention\n",
    "        self.w_a = nn.Linear(embedding_dim, embedding_dim)\n",
    "\n",
    "    def forward(self, embedding_vector):\n",
    "        batch_size, seq_len, embedding_dim = embedding_vector.size()\n",
    "        # Compute Q, K, and V\n",
    "        Q = self.w_q(embedding_vector)\n",
    "        K = self.w_k(embedding_vector)\n",
    "        V = self.w_v(embedding_vector)\n",
    "\n",
    "        # Seperate into heads\n",
    "        head_dim = embedding_dim // self.heads\n",
    "        Q = Q.view(batch_size, self.heads, seq_len, head_dim)\n",
    "        K = K.view(batch_size, self.heads, seq_len, head_dim)\n",
    "        V = V.view(batch_size, self.heads, seq_len, head_dim)\n",
    "\n",
    "        # Create a mask for masking the attention score\n",
    "        mask = torch.triu(torch.ones(seq_len, seq_len, dtype=torch.bool), diagonal=1).unsqueeze(0).unsqueeze(0).expand(batch_size, self.heads, -1, -1).to(device)\n",
    "        value_to_fill = float('-inf')\n",
    "\n",
    "        # Calculate attention (including mask)\n",
    "        attention = torch.matmul(self.softmax(torch.matmul(Q, K.transpose(-1, -2)).masked_fill(mask, value_to_fill) / torch.sqrt(torch.tensor(embedding_dim))), V)\n",
    "\n",
    "        # Concatenating the attention heads (Transposing for correct concatenation)\n",
    "        attention = attention.transpose(1, 2).reshape(batch_size, seq_len, embedding_dim)\n",
    "        output = self.w_a(attention)\n",
    "        return output"
   ]
  },
  {
   "cell_type": "code",
   "execution_count": 132,
   "metadata": {
    "id": "c54ecdfc-9f1c-4120-8578-46e05d1c2069"
   },
   "outputs": [],
   "source": [
    "class AddNorm(nn.Module):\n",
    "    def __init__(self, n_features):\n",
    "        super(AddNorm, self).__init__()\n",
    "        # Layer Norm will normalize the last dimension of the matrix\n",
    "        self.norm = nn.LayerNorm(n_features)\n",
    "\n",
    "    def forward(self, original, modified):\n",
    "        return self.norm(original + modified)"
   ]
  },
  {
   "cell_type": "code",
   "execution_count": 133,
   "metadata": {
    "id": "a1a5b4a5-96f7-40ba-9193-ab6e0dd7ccfc"
   },
   "outputs": [],
   "source": [
    "class FeedForward(nn.Module):\n",
    "    def __init__(self, embedding_dim):\n",
    "        super(FeedForward, self).__init__()\n",
    "        # Normally nn.Linear(embedding_dim, embedding_dim * 4) for expressiveness, we will change it if we have the resources to do so\n",
    "        self.lr1 = nn.Linear(embedding_dim, embedding_dim)\n",
    "        self.relu = nn.ReLU()\n",
    "        self.lr2 = nn.Linear(embedding_dim, embedding_dim)\n",
    "\n",
    "    def forward(self, x):\n",
    "        x = self.lr1(x)\n",
    "        x = self.relu(x)\n",
    "        out = self.lr2(x)\n",
    "        return out"
   ]
  },
  {
   "cell_type": "code",
   "execution_count": 134,
   "metadata": {
    "id": "9fe1f5ed-35ce-479b-b596-d2cc95a2c06c"
   },
   "outputs": [],
   "source": [
    "# Time to build the Decoder\n",
    "class Decoder(nn.Module):\n",
    "    def __init__(self, vocab_size, embedding_dim, batch_size, heads):\n",
    "        super(Decoder, self).__init__()\n",
    "        self.word_embedder = WordEmbedder(vocab_size, embedding_dim)\n",
    "        self.positional_encoding = positional_encoding(longest_length, embedding_dim)\n",
    "        self.masked_attention = MaskedMultiHeadSelfAttention(heads, embedding_dim)\n",
    "        self.add_norm1 = AddNorm(embedding_dim)\n",
    "        self.attention = MultiHeadSelfAttention(heads, embedding_dim)\n",
    "        self.add_norm2 = AddNorm(embedding_dim)\n",
    "        self.feed_forward = FeedForward(embedding_dim)\n",
    "        self.add_norm3 = AddNorm(embedding_dim)\n",
    "        self.linear = nn.Linear(embedding_dim, vocab_size)\n",
    "\n",
    "    def forward(self, x):\n",
    "        x = self.word_embedder(x)\n",
    "        x = x + self.positional_encoding[:x.size(1), :].unsqueeze(0).expand(x.size(0), -1, -1)\n",
    "        x = self.add_norm1(x, self.masked_attention(x))\n",
    "        x = self.add_norm2(x, self.attention(x))\n",
    "        x = self.add_norm3(x, self.feed_forward(x))\n",
    "        logits = self.linear(x)\n",
    "        return F.softmax(logits, dim=-1)"
   ]
  },
  {
   "cell_type": "code",
   "execution_count": 135,
   "metadata": {
    "id": "881cd445-c7fb-4f2b-ae1f-d6807b2f76a5"
   },
   "outputs": [],
   "source": [
    "model = Decoder(vocab_size, embedding_dim, batch_size, heads).to(device)"
   ]
  },
  {
   "cell_type": "code",
   "execution_count": 136,
   "metadata": {
    "id": "3026a026-a1e7-4f12-9f82-8a78982bb1ed"
   },
   "outputs": [],
   "source": [
    "# Initialize our optimizer and loss function\n",
    "optimizer = torch.optim.Adam(model.parameters(), lr=learning_rate)\n",
    "loss_fn = nn.CrossEntropyLoss()"
   ]
  },
  {
   "cell_type": "code",
   "execution_count": 140,
   "metadata": {
    "id": "bbfdc8bd-74e2-45f3-87ea-03c882aa2dee",
    "outputId": "38e04aa9-52bc-4a25-de5e-769f64c3efd9"
   },
   "outputs": [
    {
     "name": "stdout",
     "output_type": "stream",
     "text": [
      "Starting Epoch 1/2\n"
     ]
    },
    {
     "name": "stderr",
     "output_type": "stream",
     "text": [
      "Training:   0%|                                                                              | 0/13751 [00:13<?, ?it/s]\n"
     ]
    },
    {
     "ename": "OutOfMemoryError",
     "evalue": "CUDA out of memory. Tried to allocate 5.57 GiB. GPU 0 has a total capacity of 4.00 GiB of which 0 bytes is free. Of the allocated memory 8.46 GiB is allocated by PyTorch, and 49.29 MiB is reserved by PyTorch but unallocated. If reserved but unallocated memory is large try setting PYTORCH_CUDA_ALLOC_CONF=expandable_segments:True to avoid fragmentation.  See documentation for Memory Management  (https://pytorch.org/docs/stable/notes/cuda.html#environment-variables)",
     "output_type": "error",
     "traceback": [
      "\u001b[1;31m---------------------------------------------------------------------------\u001b[0m",
      "\u001b[1;31mOutOfMemoryError\u001b[0m                          Traceback (most recent call last)",
      "Cell \u001b[1;32mIn[140], line 43\u001b[0m\n\u001b[0;32m     41\u001b[0m \u001b[38;5;28;01mfor\u001b[39;00m epoch \u001b[38;5;129;01min\u001b[39;00m \u001b[38;5;28mrange\u001b[39m(epochs):\n\u001b[0;32m     42\u001b[0m     \u001b[38;5;28mprint\u001b[39m(\u001b[38;5;124mf\u001b[39m\u001b[38;5;124m\"\u001b[39m\u001b[38;5;124mStarting Epoch \u001b[39m\u001b[38;5;132;01m{\u001b[39;00mepoch\u001b[38;5;250m \u001b[39m\u001b[38;5;241m+\u001b[39m\u001b[38;5;250m \u001b[39m\u001b[38;5;241m1\u001b[39m\u001b[38;5;132;01m}\u001b[39;00m\u001b[38;5;124m/\u001b[39m\u001b[38;5;132;01m{\u001b[39;00mepochs\u001b[38;5;132;01m}\u001b[39;00m\u001b[38;5;124m\"\u001b[39m)  \n\u001b[1;32m---> 43\u001b[0m     epoch_loss \u001b[38;5;241m=\u001b[39m train_epoch(data_loader, model, optimizer, loss_fn, device, pad_token)\n\u001b[0;32m     44\u001b[0m     \u001b[38;5;28mprint\u001b[39m(\u001b[38;5;124mf\u001b[39m\u001b[38;5;124m\"\u001b[39m\u001b[38;5;124mEpoch \u001b[39m\u001b[38;5;132;01m{\u001b[39;00mepoch\u001b[38;5;250m \u001b[39m\u001b[38;5;241m+\u001b[39m\u001b[38;5;250m \u001b[39m\u001b[38;5;241m1\u001b[39m\u001b[38;5;132;01m}\u001b[39;00m\u001b[38;5;124m, Loss: \u001b[39m\u001b[38;5;132;01m{\u001b[39;00mepoch_loss\u001b[38;5;132;01m:\u001b[39;00m\u001b[38;5;124m.4f\u001b[39m\u001b[38;5;132;01m}\u001b[39;00m\u001b[38;5;124m\"\u001b[39m)\n",
      "Cell \u001b[1;32mIn[140], line 26\u001b[0m, in \u001b[0;36mtrain_epoch\u001b[1;34m(data_loader, model, optimizer, loss_fn, device, pad_token)\u001b[0m\n\u001b[0;32m     23\u001b[0m target_sequences \u001b[38;5;241m=\u001b[39m poems[:, \u001b[38;5;241m1\u001b[39m:]  \u001b[38;5;66;03m# All tokens except the first\u001b[39;00m\n\u001b[0;32m     25\u001b[0m \u001b[38;5;66;03m# Forward pass using teacher forcing\u001b[39;00m\n\u001b[1;32m---> 26\u001b[0m logits \u001b[38;5;241m=\u001b[39m model(input_sequences)\n\u001b[0;32m     28\u001b[0m \u001b[38;5;66;03m# Calculate loss\u001b[39;00m\n\u001b[0;32m     29\u001b[0m loss \u001b[38;5;241m=\u001b[39m loss_fn(logits\u001b[38;5;241m.\u001b[39mtranspose(\u001b[38;5;241m1\u001b[39m, \u001b[38;5;241m2\u001b[39m), target_sequences)\n",
      "File \u001b[1;32m~\\miniconda3\\Lib\\site-packages\\torch\\nn\\modules\\module.py:1511\u001b[0m, in \u001b[0;36mModule._wrapped_call_impl\u001b[1;34m(self, *args, **kwargs)\u001b[0m\n\u001b[0;32m   1509\u001b[0m     \u001b[38;5;28;01mreturn\u001b[39;00m \u001b[38;5;28mself\u001b[39m\u001b[38;5;241m.\u001b[39m_compiled_call_impl(\u001b[38;5;241m*\u001b[39margs, \u001b[38;5;241m*\u001b[39m\u001b[38;5;241m*\u001b[39mkwargs)  \u001b[38;5;66;03m# type: ignore[misc]\u001b[39;00m\n\u001b[0;32m   1510\u001b[0m \u001b[38;5;28;01melse\u001b[39;00m:\n\u001b[1;32m-> 1511\u001b[0m     \u001b[38;5;28;01mreturn\u001b[39;00m \u001b[38;5;28mself\u001b[39m\u001b[38;5;241m.\u001b[39m_call_impl(\u001b[38;5;241m*\u001b[39margs, \u001b[38;5;241m*\u001b[39m\u001b[38;5;241m*\u001b[39mkwargs)\n",
      "File \u001b[1;32m~\\miniconda3\\Lib\\site-packages\\torch\\nn\\modules\\module.py:1520\u001b[0m, in \u001b[0;36mModule._call_impl\u001b[1;34m(self, *args, **kwargs)\u001b[0m\n\u001b[0;32m   1515\u001b[0m \u001b[38;5;66;03m# If we don't have any hooks, we want to skip the rest of the logic in\u001b[39;00m\n\u001b[0;32m   1516\u001b[0m \u001b[38;5;66;03m# this function, and just call forward.\u001b[39;00m\n\u001b[0;32m   1517\u001b[0m \u001b[38;5;28;01mif\u001b[39;00m \u001b[38;5;129;01mnot\u001b[39;00m (\u001b[38;5;28mself\u001b[39m\u001b[38;5;241m.\u001b[39m_backward_hooks \u001b[38;5;129;01mor\u001b[39;00m \u001b[38;5;28mself\u001b[39m\u001b[38;5;241m.\u001b[39m_backward_pre_hooks \u001b[38;5;129;01mor\u001b[39;00m \u001b[38;5;28mself\u001b[39m\u001b[38;5;241m.\u001b[39m_forward_hooks \u001b[38;5;129;01mor\u001b[39;00m \u001b[38;5;28mself\u001b[39m\u001b[38;5;241m.\u001b[39m_forward_pre_hooks\n\u001b[0;32m   1518\u001b[0m         \u001b[38;5;129;01mor\u001b[39;00m _global_backward_pre_hooks \u001b[38;5;129;01mor\u001b[39;00m _global_backward_hooks\n\u001b[0;32m   1519\u001b[0m         \u001b[38;5;129;01mor\u001b[39;00m _global_forward_hooks \u001b[38;5;129;01mor\u001b[39;00m _global_forward_pre_hooks):\n\u001b[1;32m-> 1520\u001b[0m     \u001b[38;5;28;01mreturn\u001b[39;00m forward_call(\u001b[38;5;241m*\u001b[39margs, \u001b[38;5;241m*\u001b[39m\u001b[38;5;241m*\u001b[39mkwargs)\n\u001b[0;32m   1522\u001b[0m \u001b[38;5;28;01mtry\u001b[39;00m:\n\u001b[0;32m   1523\u001b[0m     result \u001b[38;5;241m=\u001b[39m \u001b[38;5;28;01mNone\u001b[39;00m\n",
      "Cell \u001b[1;32mIn[134], line 18\u001b[0m, in \u001b[0;36mDecoder.forward\u001b[1;34m(self, x)\u001b[0m\n\u001b[0;32m     16\u001b[0m x \u001b[38;5;241m=\u001b[39m \u001b[38;5;28mself\u001b[39m\u001b[38;5;241m.\u001b[39mword_embedder(x)\n\u001b[0;32m     17\u001b[0m x \u001b[38;5;241m=\u001b[39m x \u001b[38;5;241m+\u001b[39m \u001b[38;5;28mself\u001b[39m\u001b[38;5;241m.\u001b[39mpositional_encoding[:x\u001b[38;5;241m.\u001b[39msize(\u001b[38;5;241m1\u001b[39m), :]\u001b[38;5;241m.\u001b[39munsqueeze(\u001b[38;5;241m0\u001b[39m)\u001b[38;5;241m.\u001b[39mexpand(x\u001b[38;5;241m.\u001b[39msize(\u001b[38;5;241m0\u001b[39m), \u001b[38;5;241m-\u001b[39m\u001b[38;5;241m1\u001b[39m, \u001b[38;5;241m-\u001b[39m\u001b[38;5;241m1\u001b[39m)\n\u001b[1;32m---> 18\u001b[0m x \u001b[38;5;241m=\u001b[39m \u001b[38;5;28mself\u001b[39m\u001b[38;5;241m.\u001b[39madd_norm1(x, \u001b[38;5;28mself\u001b[39m\u001b[38;5;241m.\u001b[39mmasked_attention(x))\n\u001b[0;32m     19\u001b[0m x \u001b[38;5;241m=\u001b[39m \u001b[38;5;28mself\u001b[39m\u001b[38;5;241m.\u001b[39madd_norm2(x, \u001b[38;5;28mself\u001b[39m\u001b[38;5;241m.\u001b[39mattention(x))\n\u001b[0;32m     20\u001b[0m x \u001b[38;5;241m=\u001b[39m \u001b[38;5;28mself\u001b[39m\u001b[38;5;241m.\u001b[39madd_norm3(x, \u001b[38;5;28mself\u001b[39m\u001b[38;5;241m.\u001b[39mfeed_forward(x))\n",
      "File \u001b[1;32m~\\miniconda3\\Lib\\site-packages\\torch\\nn\\modules\\module.py:1511\u001b[0m, in \u001b[0;36mModule._wrapped_call_impl\u001b[1;34m(self, *args, **kwargs)\u001b[0m\n\u001b[0;32m   1509\u001b[0m     \u001b[38;5;28;01mreturn\u001b[39;00m \u001b[38;5;28mself\u001b[39m\u001b[38;5;241m.\u001b[39m_compiled_call_impl(\u001b[38;5;241m*\u001b[39margs, \u001b[38;5;241m*\u001b[39m\u001b[38;5;241m*\u001b[39mkwargs)  \u001b[38;5;66;03m# type: ignore[misc]\u001b[39;00m\n\u001b[0;32m   1510\u001b[0m \u001b[38;5;28;01melse\u001b[39;00m:\n\u001b[1;32m-> 1511\u001b[0m     \u001b[38;5;28;01mreturn\u001b[39;00m \u001b[38;5;28mself\u001b[39m\u001b[38;5;241m.\u001b[39m_call_impl(\u001b[38;5;241m*\u001b[39margs, \u001b[38;5;241m*\u001b[39m\u001b[38;5;241m*\u001b[39mkwargs)\n",
      "File \u001b[1;32m~\\miniconda3\\Lib\\site-packages\\torch\\nn\\modules\\module.py:1520\u001b[0m, in \u001b[0;36mModule._call_impl\u001b[1;34m(self, *args, **kwargs)\u001b[0m\n\u001b[0;32m   1515\u001b[0m \u001b[38;5;66;03m# If we don't have any hooks, we want to skip the rest of the logic in\u001b[39;00m\n\u001b[0;32m   1516\u001b[0m \u001b[38;5;66;03m# this function, and just call forward.\u001b[39;00m\n\u001b[0;32m   1517\u001b[0m \u001b[38;5;28;01mif\u001b[39;00m \u001b[38;5;129;01mnot\u001b[39;00m (\u001b[38;5;28mself\u001b[39m\u001b[38;5;241m.\u001b[39m_backward_hooks \u001b[38;5;129;01mor\u001b[39;00m \u001b[38;5;28mself\u001b[39m\u001b[38;5;241m.\u001b[39m_backward_pre_hooks \u001b[38;5;129;01mor\u001b[39;00m \u001b[38;5;28mself\u001b[39m\u001b[38;5;241m.\u001b[39m_forward_hooks \u001b[38;5;129;01mor\u001b[39;00m \u001b[38;5;28mself\u001b[39m\u001b[38;5;241m.\u001b[39m_forward_pre_hooks\n\u001b[0;32m   1518\u001b[0m         \u001b[38;5;129;01mor\u001b[39;00m _global_backward_pre_hooks \u001b[38;5;129;01mor\u001b[39;00m _global_backward_hooks\n\u001b[0;32m   1519\u001b[0m         \u001b[38;5;129;01mor\u001b[39;00m _global_forward_hooks \u001b[38;5;129;01mor\u001b[39;00m _global_forward_pre_hooks):\n\u001b[1;32m-> 1520\u001b[0m     \u001b[38;5;28;01mreturn\u001b[39;00m forward_call(\u001b[38;5;241m*\u001b[39margs, \u001b[38;5;241m*\u001b[39m\u001b[38;5;241m*\u001b[39mkwargs)\n\u001b[0;32m   1522\u001b[0m \u001b[38;5;28;01mtry\u001b[39;00m:\n\u001b[0;32m   1523\u001b[0m     result \u001b[38;5;241m=\u001b[39m \u001b[38;5;28;01mNone\u001b[39;00m\n",
      "Cell \u001b[1;32mIn[131], line 36\u001b[0m, in \u001b[0;36mMaskedMultiHeadSelfAttention.forward\u001b[1;34m(self, embedding_vector)\u001b[0m\n\u001b[0;32m     33\u001b[0m value_to_fill \u001b[38;5;241m=\u001b[39m \u001b[38;5;28mfloat\u001b[39m(\u001b[38;5;124m'\u001b[39m\u001b[38;5;124m-inf\u001b[39m\u001b[38;5;124m'\u001b[39m)\n\u001b[0;32m     35\u001b[0m \u001b[38;5;66;03m# Calculate attention (including mask)\u001b[39;00m\n\u001b[1;32m---> 36\u001b[0m attention \u001b[38;5;241m=\u001b[39m torch\u001b[38;5;241m.\u001b[39mmatmul(\u001b[38;5;28mself\u001b[39m\u001b[38;5;241m.\u001b[39msoftmax(torch\u001b[38;5;241m.\u001b[39mmatmul(Q, K\u001b[38;5;241m.\u001b[39mtranspose(\u001b[38;5;241m-\u001b[39m\u001b[38;5;241m1\u001b[39m, \u001b[38;5;241m-\u001b[39m\u001b[38;5;241m2\u001b[39m))\u001b[38;5;241m.\u001b[39mmasked_fill(mask, value_to_fill) \u001b[38;5;241m/\u001b[39m torch\u001b[38;5;241m.\u001b[39msqrt(torch\u001b[38;5;241m.\u001b[39mtensor(embedding_dim))), V)\n\u001b[0;32m     38\u001b[0m \u001b[38;5;66;03m# Concatenating the attention heads (Transposing for correct concatenation)\u001b[39;00m\n\u001b[0;32m     39\u001b[0m attention \u001b[38;5;241m=\u001b[39m attention\u001b[38;5;241m.\u001b[39mtranspose(\u001b[38;5;241m1\u001b[39m, \u001b[38;5;241m2\u001b[39m)\u001b[38;5;241m.\u001b[39mreshape(batch_size, seq_len, embedding_dim)\n",
      "\u001b[1;31mOutOfMemoryError\u001b[0m: CUDA out of memory. Tried to allocate 5.57 GiB. GPU 0 has a total capacity of 4.00 GiB of which 0 bytes is free. Of the allocated memory 8.46 GiB is allocated by PyTorch, and 49.29 MiB is reserved by PyTorch but unallocated. If reserved but unallocated memory is large try setting PYTORCH_CUDA_ALLOC_CONF=expandable_segments:True to avoid fragmentation.  See documentation for Memory Management  (https://pytorch.org/docs/stable/notes/cuda.html#environment-variables)"
     ]
    }
   ],
   "source": [
    "import torch\n",
    "from tqdm import tqdm\n",
    "\n",
    "def train_epoch(data_loader, model, optimizer, loss_fn, device, pad_token):\n",
    "    model.train()\n",
    "    total_loss = 0.0\n",
    "\n",
    "    # Wrap your data loader with tqdm for a progress bar\n",
    "    progress_bar = tqdm(data_loader, desc=\"Training\", leave=True)\n",
    "\n",
    "    for batch in progress_bar:\n",
    "        torch.cuda.empty_cache()\n",
    "        poems = batch[0].to(device)  # Load poems to the device\n",
    "\n",
    "        # Find the max length in this batch to minimize computation\n",
    "        max_length = poems.ne(pad_token).sum(1).max().item()  # Assuming padding token ID is pad_token\n",
    "        poems = poems[:, :max_length]  # Trim to max length\n",
    "\n",
    "        optimizer.zero_grad()\n",
    "\n",
    "        # Prepare input and target sequences\n",
    "        input_sequences = poems[:, :-1]  # All tokens except the last\n",
    "        target_sequences = poems[:, 1:]  # All tokens except the first\n",
    "\n",
    "        # Forward pass using teacher forcing\n",
    "        logits = model(input_sequences)\n",
    "\n",
    "        # Calculate loss\n",
    "        loss = loss_fn(logits.transpose(1, 2), target_sequences)\n",
    "\n",
    "        loss.backward()\n",
    "        optimizer.step()\n",
    "        total_loss += loss.item()\n",
    "\n",
    "        # Update the progress bar with the current batch loss\n",
    "        progress_bar.set_postfix(loss=loss.item())\n",
    "\n",
    "    average_loss = total_loss / len(data_loader)\n",
    "    return average_loss\n",
    "\n",
    "for epoch in range(epochs):\n",
    "    print(f\"Starting Epoch {epoch + 1}/{epochs}\")  \n",
    "    epoch_loss = train_epoch(data_loader, model, optimizer, loss_fn, device, pad_token)\n",
    "    print(f\"Epoch {epoch + 1}, Loss: {epoch_loss:.4f}\")"
   ]
  },
  {
   "cell_type": "code",
   "execution_count": null,
   "metadata": {},
   "outputs": [],
   "source": [
    "model_path = \"model_weights.pth\" \n",
    "torch.save(model.state_dict(), model_path)"
   ]
  },
  {
   "cell_type": "code",
   "execution_count": null,
   "metadata": {},
   "outputs": [],
   "source": [
    "model.load_state_dict(torch.load(\"model_weights.pth\"))\n",
    "model.eval()"
   ]
  },
  {
   "cell_type": "code",
   "execution_count": null,
   "metadata": {
    "id": "5132ae30-6205-4e12-a54e-b58b3f03e1bf"
   },
   "outputs": [],
   "source": [
    "def generate_poem(model, start_sequence, tokenizer=tokenizer, max_length=100):\n",
    "    model.eval()  # Set the model to evaluation mode.\n",
    "    tokens = tokenizer.encode(start_sequence)  # Encode the start sequence to tokens directly using the tokenizer.\n",
    "\n",
    "    # Initialize the sequence with the token IDs of the start sequence\n",
    "    generated_ids = tokens.ids\n",
    "\n",
    "    for _ in range(max_length - len(generated_ids)):\n",
    "        input_seq = torch.tensor([generated_ids], dtype=torch.long).to(device)\n",
    "        with torch.no_grad():\n",
    "            output_logits = model(input_seq)\n",
    "\n",
    "        # Predict the next token ID (not index).\n",
    "        next_token_id = output_logits[:, -1, :].argmax(-1).item()\n",
    "        generated_ids.append(next_token_id)  # Append the ID of the next token.\n",
    "\n",
    "        # Stop if the end token is generated.\n",
    "        end_token_id = tokenizer.token_to_id(\"END\")\n",
    "        if next_token_id == end_token_id:\n",
    "            break\n",
    "\n",
    "    # Decode the token IDs back to text using the tokenizer.\n",
    "    generated_text = tokenizer.decode(generated_ids)\n",
    "\n",
    "    return generated_text"
   ]
  },
  {
   "cell_type": "code",
   "execution_count": null,
   "metadata": {
    "id": "01b5e8f6-5146-4019-9f45-08c003279b49"
   },
   "outputs": [],
   "source": [
    "start_sequence = input(\"Please enter the starting words for your poem: \")\n",
    "poem = generate_poem(model, start_sequence)\n",
    "print(poem)"
   ]
  },
  {
   "cell_type": "code",
   "execution_count": null,
   "metadata": {
    "id": "23f509d4-499c-4267-928b-b0379cde2b36"
   },
   "outputs": [],
   "source": []
  }
 ],
 "metadata": {
  "accelerator": "GPU",
  "colab": {
   "gpuType": "T4",
   "provenance": []
  },
  "kaggle": {
   "accelerator": "gpu",
   "dataSources": [
    {
     "datasetId": 236282,
     "sourceId": 502516,
     "sourceType": "datasetVersion"
    }
   ],
   "dockerImageVersionId": 30683,
   "isGpuEnabled": true,
   "isInternetEnabled": true,
   "language": "python",
   "sourceType": "notebook"
  },
  "kernelspec": {
   "display_name": "Python 3 (ipykernel)",
   "language": "python",
   "name": "python3"
  },
  "language_info": {
   "codemirror_mode": {
    "name": "ipython",
    "version": 3
   },
   "file_extension": ".py",
   "mimetype": "text/x-python",
   "name": "python",
   "nbconvert_exporter": "python",
   "pygments_lexer": "ipython3",
   "version": "3.12.2"
  }
 },
 "nbformat": 4,
 "nbformat_minor": 4
}
