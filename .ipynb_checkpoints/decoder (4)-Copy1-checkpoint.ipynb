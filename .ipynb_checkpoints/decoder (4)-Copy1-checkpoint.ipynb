{
 "cells": [
  {
   "cell_type": "code",
   "execution_count": 1,
   "metadata": {
    "id": "7e893663-462c-4e19-98f0-2611f454ccf7",
    "outputId": "96f88eb4-3db5-4384-94ad-74718a1b50fb"
   },
   "outputs": [
    {
     "name": "stderr",
     "output_type": "stream",
     "text": [
      "[nltk_data] Downloading package punkt to\n",
      "[nltk_data]     C:\\Users\\satvm\\AppData\\Roaming\\nltk_data...\n",
      "[nltk_data]   Package punkt is already up-to-date!\n"
     ]
    },
    {
     "data": {
      "text/plain": [
       "True"
      ]
     },
     "execution_count": 1,
     "metadata": {},
     "output_type": "execute_result"
    }
   ],
   "source": [
    "import pandas as pd\n",
    "from nltk.tokenize import word_tokenize\n",
    "import torch\n",
    "import math\n",
    "import re\n",
    "import torch.nn as nn\n",
    "from torch.nn.utils.rnn import pad_sequence\n",
    "import torch.nn.functional as F\n",
    "from torch.utils.data import TensorDataset, DataLoader\n",
    "import numpy as np\n",
    "from tokenizers import ByteLevelBPETokenizer\n",
    "from tqdm import tqdm\n",
    "import matplotlib.pyplot as plt\n",
    "import nltk\n",
    "nltk.download('punkt')"
   ]
  },
  {
   "cell_type": "code",
   "execution_count": 2,
   "metadata": {
    "id": "46a99932-f65a-4ffd-981b-4eb2c1c32775"
   },
   "outputs": [],
   "source": [
    "df = pd.read_csv(\"poetry.csv\")"
   ]
  },
  {
   "cell_type": "code",
   "execution_count": 3,
   "metadata": {},
   "outputs": [],
   "source": [
    "df = df.iloc[:len(df)]"
   ]
  },
  {
   "cell_type": "code",
   "execution_count": 4,
   "metadata": {
    "id": "259e65ac-45c6-452d-b220-6f9e3f605093",
    "outputId": "1d03b069-37f4-4e1d-9199-71d98240230c"
   },
   "outputs": [
    {
     "data": {
      "text/html": [
       "<div>\n",
       "<style scoped>\n",
       "    .dataframe tbody tr th:only-of-type {\n",
       "        vertical-align: middle;\n",
       "    }\n",
       "\n",
       "    .dataframe tbody tr th {\n",
       "        vertical-align: top;\n",
       "    }\n",
       "\n",
       "    .dataframe thead th {\n",
       "        text-align: right;\n",
       "    }\n",
       "</style>\n",
       "<table border=\"1\" class=\"dataframe\">\n",
       "  <thead>\n",
       "    <tr style=\"text-align: right;\">\n",
       "      <th></th>\n",
       "      <th>Unnamed: 0</th>\n",
       "      <th>Title</th>\n",
       "      <th>Poem</th>\n",
       "      <th>Poet</th>\n",
       "      <th>Tags</th>\n",
       "    </tr>\n",
       "  </thead>\n",
       "  <tbody>\n",
       "    <tr>\n",
       "      <th>13849</th>\n",
       "      <td>13</td>\n",
       "      <td>\\r\\r\\n                    1-800-FEAR\\r\\r\\n</td>\n",
       "      <td>\\r\\r\\nWe'd  like  to  talk  with  you  about  fear they  said  so\\r\\r\\r\\nmany  people  live  in  fear  these  days  they  drove  up\\r\\r\\r\\nall  four  of  them  in  a  small  car nice   boy  they  said\\r\\r\\r\\nbeautiful  dogs they  said  so  friendly  the  man  ahead\\r\\r\\r\\nof  the  woman  the other  two  waiting  in  the  drive  I\\r\\r\\r\\nwas  outside digging up the garden no one home I said\\r\\r\\r\\nwhat   are  you  selling   anyway  I'm   not  interested  I\\r\\r\\r\\nsaid  well  you  have  a  nice  day  they  said  here's  our\\r\\r\\r\\ncard  there's   a  phone  number  you  can  call  anytime\\r\\r\\r\\nany  other   houses  down  this  road  anyone  else   live\\r\\r\\r\\nhere  we'd  like  to  talk  to  them  about  living  in  fear\\r\\r\\n</td>\n",
       "      <td>Jody Gladding</td>\n",
       "      <td>Living,Social Commentaries,Popular Culture</td>\n",
       "    </tr>\n",
       "    <tr>\n",
       "      <th>13850</th>\n",
       "      <td>14</td>\n",
       "      <td>\\r\\r\\n                    The Death of Atahuallpa\\r\\r\\n</td>\n",
       "      <td>\\r\\r\\n\\r\\r\\n</td>\n",
       "      <td>William Jay Smith</td>\n",
       "      <td>NaN</td>\n",
       "    </tr>\n",
       "    <tr>\n",
       "      <th>13851</th>\n",
       "      <td>15</td>\n",
       "      <td>\\r\\r\\n                    Poet's Wish\\r\\r\\n</td>\n",
       "      <td>\\r\\r\\n\\r\\r\\n</td>\n",
       "      <td>William Jay Smith</td>\n",
       "      <td>NaN</td>\n",
       "    </tr>\n",
       "    <tr>\n",
       "      <th>13852</th>\n",
       "      <td>0</td>\n",
       "      <td>\\r\\r\\n                    0\\r\\r\\n</td>\n",
       "      <td>\\r\\r\\n          Philosophic\\r\\r\\nin its complex, ovoid emptiness,\\r\\r\\na skillful pundit coined it as a sort\\r\\r\\n    of stopgap doorstop for those\\r\\r\\n           quaint equations           Romans never\\r\\r\\ndreamt of. In form completely clever\\r\\r\\nand discrete—a mirror come unsilvered,     loose watch face without the works,              a hollowed globe            from tip to toe\\r\\r\\nunbroken, it evades the grappling\\r\\r\\nhooks of mass, tilts the thin rim of no thing,     remains embryonic sum,             non-cogito.\\r\\r\\n</td>\n",
       "      <td>Hailey Leithauser</td>\n",
       "      <td>Arts &amp; Sciences,Philosophy</td>\n",
       "    </tr>\n",
       "    <tr>\n",
       "      <th>13853</th>\n",
       "      <td>1</td>\n",
       "      <td>\\r\\r\\n                    !\\r\\r\\n</td>\n",
       "      <td>\\r\\r\\nDear Writers, I’m compiling the first in what I hope is a series of publications I’m calling artists among artists. The theme for issue 1 is “Faggot Dinosaur.” I hope to hear from you! Thank you and best wishes.</td>\n",
       "      <td>Wendy Videlock</td>\n",
       "      <td>Relationships,Gay, Lesbian, Queer,Arts &amp; Sciences,Poetry &amp; Poets,Social Commentaries,Gender &amp; Sexuality</td>\n",
       "    </tr>\n",
       "  </tbody>\n",
       "</table>\n",
       "</div>"
      ],
      "text/plain": [
       "       Unnamed: 0  \\\n",
       "13849          13   \n",
       "13850          14   \n",
       "13851          15   \n",
       "13852           0   \n",
       "13853           1   \n",
       "\n",
       "                                                                         Title  \\\n",
       "13849               \\r\\r\\n                    1-800-FEAR\\r\\r\\n                   \n",
       "13850  \\r\\r\\n                    The Death of Atahuallpa\\r\\r\\n                   \n",
       "13851              \\r\\r\\n                    Poet's Wish\\r\\r\\n                   \n",
       "13852                        \\r\\r\\n                    0\\r\\r\\n                   \n",
       "13853                        \\r\\r\\n                    !\\r\\r\\n                   \n",
       "\n",
       "                                                                                                                                                                                                                                                                                                                                                                                                                                                                                                                                                                                                                                                                                                                                                                Poem  \\\n",
       "13849  \\r\\r\\nWe'd  like  to  talk  with  you  about  fear they  said  so\\r\\r\\r\\nmany  people  live  in  fear  these  days  they  drove  up\\r\\r\\r\\nall  four  of  them  in  a  small  car nice   boy  they  said\\r\\r\\r\\nbeautiful  dogs they  said  so  friendly  the  man  ahead\\r\\r\\r\\nof  the  woman  the other  two  waiting  in  the  drive  I\\r\\r\\r\\nwas  outside digging up the garden no one home I said\\r\\r\\r\\nwhat   are  you  selling   anyway  I'm   not  interested  I\\r\\r\\r\\nsaid  well  you  have  a  nice  day  they  said  here's  our\\r\\r\\r\\ncard  there's   a  phone  number  you  can  call  anytime\\r\\r\\r\\nany  other   houses  down  this  road  anyone  else   live\\r\\r\\r\\nhere  we'd  like  to  talk  to  them  about  living  in  fear\\r\\r\\n   \n",
       "13850                                                                                                                                                                                                                                                                                                                                                                                                                                                                                                                                                                                                                                                                                                                                                   \\r\\r\\n\\r\\r\\n   \n",
       "13851                                                                                                                                                                                                                                                                                                                                                                                                                                                                                                                                                                                                                                                                                                                                                   \\r\\r\\n\\r\\r\\n   \n",
       "13852                                                                                                                                                                                                         \\r\\r\\n          Philosophic\\r\\r\\nin its complex, ovoid emptiness,\\r\\r\\na skillful pundit coined it as a sort\\r\\r\\n    of stopgap doorstop for those\\r\\r\\n           quaint equations           Romans never\\r\\r\\ndreamt of. In form completely clever\\r\\r\\nand discrete—a mirror come unsilvered,     loose watch face without the works,              a hollowed globe            from tip to toe\\r\\r\\nunbroken, it evades the grappling\\r\\r\\nhooks of mass, tilts the thin rim of no thing,     remains embryonic sum,             non-cogito.\\r\\r\\n   \n",
       "13853                                                                                                                                                                                                                                                                                                                                                                                                                                                                                                                                    \\r\\r\\nDear Writers, I’m compiling the first in what I hope is a series of publications I’m calling artists among artists. The theme for issue 1 is “Faggot Dinosaur.” I hope to hear from you! Thank you and best wishes.     \n",
       "\n",
       "                    Poet  \\\n",
       "13849      Jody Gladding   \n",
       "13850  William Jay Smith   \n",
       "13851  William Jay Smith   \n",
       "13852  Hailey Leithauser   \n",
       "13853     Wendy Videlock   \n",
       "\n",
       "                                                                                                          Tags  \n",
       "13849                                                               Living,Social Commentaries,Popular Culture  \n",
       "13850                                                                                                      NaN  \n",
       "13851                                                                                                      NaN  \n",
       "13852                                                                               Arts & Sciences,Philosophy  \n",
       "13853  Relationships,Gay, Lesbian, Queer,Arts & Sciences,Poetry & Poets,Social Commentaries,Gender & Sexuality  "
      ]
     },
     "execution_count": 4,
     "metadata": {},
     "output_type": "execute_result"
    }
   ],
   "source": [
    "pd.set_option('display.max_colwidth', None)\n",
    "df.tail()"
   ]
  },
  {
   "cell_type": "code",
   "execution_count": 5,
   "metadata": {
    "id": "68c8a2b5-553f-494e-bed7-b87dda4a31a0",
    "outputId": "f585a655-b3bb-47bb-cd1a-b220d06c67a9"
   },
   "outputs": [
    {
     "data": {
      "text/plain": [
       "Unnamed: 0      0\n",
       "Title           0\n",
       "Poem            0\n",
       "Poet            0\n",
       "Tags          955\n",
       "dtype: int64"
      ]
     },
     "execution_count": 5,
     "metadata": {},
     "output_type": "execute_result"
    }
   ],
   "source": [
    "df.isna().sum()"
   ]
  },
  {
   "cell_type": "code",
   "execution_count": 6,
   "metadata": {
    "id": "bfb30a34-a0f3-4202-b652-931b29a215a1"
   },
   "outputs": [],
   "source": [
    "df = df.drop(['Unnamed: 0', 'Tags', 'Poet', 'Title'], axis=1)"
   ]
  },
  {
   "cell_type": "code",
   "execution_count": 7,
   "metadata": {
    "id": "744c8e4b-7444-4c88-bceb-d1986680a5da"
   },
   "outputs": [],
   "source": [
    "# df['Title'] = df['Title'].str.replace('\\r', '')\n",
    "df['Poem'] = df['Poem'].str.replace('\\r', '')\n",
    "# df['Title'] = df['Title'].str.replace('\\n', '')\n",
    "df['Poem'] = df['Poem'].str.strip('\\n')"
   ]
  },
  {
   "cell_type": "code",
   "execution_count": 8,
   "metadata": {
    "id": "XHKDr0NhuaQU",
    "outputId": "b58474e3-1194-4563-e6c3-80a0aca43ee4"
   },
   "outputs": [
    {
     "data": {
      "text/html": [
       "<div>\n",
       "<style scoped>\n",
       "    .dataframe tbody tr th:only-of-type {\n",
       "        vertical-align: middle;\n",
       "    }\n",
       "\n",
       "    .dataframe tbody tr th {\n",
       "        vertical-align: top;\n",
       "    }\n",
       "\n",
       "    .dataframe thead th {\n",
       "        text-align: right;\n",
       "    }\n",
       "</style>\n",
       "<table border=\"1\" class=\"dataframe\">\n",
       "  <thead>\n",
       "    <tr style=\"text-align: right;\">\n",
       "      <th></th>\n",
       "      <th>Poem</th>\n",
       "    </tr>\n",
       "  </thead>\n",
       "  <tbody>\n",
       "    <tr>\n",
       "      <th>13849</th>\n",
       "      <td>We'd  like  to  talk  with  you  about  fear they  said  so\\nmany  people  live  in  fear  these  days  they  drove  up\\nall  four  of  them  in  a  small  car nice   boy  they  said\\nbeautiful  dogs they  said  so  friendly  the  man  ahead\\nof  the  woman  the other  two  waiting  in  the  drive  I\\nwas  outside digging up the garden no one home I said\\nwhat   are  you  selling   anyway  I'm   not  interested  I\\nsaid  well  you  have  a  nice  day  they  said  here's  our\\ncard  there's   a  phone  number  you  can  call  anytime\\nany  other   houses  down  this  road  anyone  else   live\\nhere  we'd  like  to  talk  to  them  about  living  in  fear</td>\n",
       "    </tr>\n",
       "    <tr>\n",
       "      <th>13850</th>\n",
       "      <td></td>\n",
       "    </tr>\n",
       "    <tr>\n",
       "      <th>13851</th>\n",
       "      <td></td>\n",
       "    </tr>\n",
       "    <tr>\n",
       "      <th>13852</th>\n",
       "      <td>Philosophic\\nin its complex, ovoid emptiness,\\na skillful pundit coined it as a sort\\n    of stopgap doorstop for those\\n           quaint equations           Romans never\\ndreamt of. In form completely clever\\nand discrete—a mirror come unsilvered,     loose watch face without the works,              a hollowed globe            from tip to toe\\nunbroken, it evades the grappling\\nhooks of mass, tilts the thin rim of no thing,     remains embryonic sum,             non-cogito.</td>\n",
       "    </tr>\n",
       "    <tr>\n",
       "      <th>13853</th>\n",
       "      <td>Dear Writers, I’m compiling the first in what I hope is a series of publications I’m calling artists among artists. The theme for issue 1 is “Faggot Dinosaur.” I hope to hear from you! Thank you and best wishes.</td>\n",
       "    </tr>\n",
       "  </tbody>\n",
       "</table>\n",
       "</div>"
      ],
      "text/plain": [
       "                                                                                                                                                                                                                                                                                                                                                                                                                                                                                                                                                                                                                                                                                        Poem\n",
       "13849  We'd  like  to  talk  with  you  about  fear they  said  so\\nmany  people  live  in  fear  these  days  they  drove  up\\nall  four  of  them  in  a  small  car nice   boy  they  said\\nbeautiful  dogs they  said  so  friendly  the  man  ahead\\nof  the  woman  the other  two  waiting  in  the  drive  I\\nwas  outside digging up the garden no one home I said\\nwhat   are  you  selling   anyway  I'm   not  interested  I\\nsaid  well  you  have  a  nice  day  they  said  here's  our\\ncard  there's   a  phone  number  you  can  call  anytime\\nany  other   houses  down  this  road  anyone  else   live\\nhere  we'd  like  to  talk  to  them  about  living  in  fear\n",
       "13850                                                                                                                                                                                                                                                                                                                                                                                                                                                                                                                                                                                                                                                                                       \n",
       "13851                                                                                                                                                                                                                                                                                                                                                                                                                                                                                                                                                                                                                                                                                       \n",
       "13852                                                                                                                                                                                       Philosophic\\nin its complex, ovoid emptiness,\\na skillful pundit coined it as a sort\\n    of stopgap doorstop for those\\n           quaint equations           Romans never\\ndreamt of. In form completely clever\\nand discrete—a mirror come unsilvered,     loose watch face without the works,              a hollowed globe            from tip to toe\\nunbroken, it evades the grappling\\nhooks of mass, tilts the thin rim of no thing,     remains embryonic sum,             non-cogito.\n",
       "13853                                                                                                                                                                                                                                                                                                                                                                                                                                                                  Dear Writers, I’m compiling the first in what I hope is a series of publications I’m calling artists among artists. The theme for issue 1 is “Faggot Dinosaur.” I hope to hear from you! Thank you and best wishes.  "
      ]
     },
     "execution_count": 8,
     "metadata": {},
     "output_type": "execute_result"
    }
   ],
   "source": [
    "df.tail()"
   ]
  },
  {
   "cell_type": "code",
   "execution_count": 9,
   "metadata": {
    "id": "147cacee-0272-4883-a8b0-5e9f9cc42621"
   },
   "outputs": [],
   "source": [
    "# Lower case everything\n",
    "# df['Title'] = df['Title'].str.lower()\n",
    "df['Poem'] = df['Poem'].str.lower()\n",
    "\n",
    "# Remove apostrophes and join the parts\n",
    "# df['Title'] = df['Title'].str.replace(\"'\", \"\", regex=False).str.replace(\"’\", \"\", regex=False)\n",
    "df['Poem'] = df['Poem'].str.replace(\"'\", \"\", regex=False).str.replace(\"’\", \"\", regex=False)"
   ]
  },
  {
   "cell_type": "code",
   "execution_count": 10,
   "metadata": {
    "id": "d53c2016-cbe5-4bcf-9a11-94f7abf27a6a"
   },
   "outputs": [],
   "source": [
    "# Uncomment only when including encoder, until then let it be commented off\n",
    "# Filter out rows where both 'Title' and 'Poem' have no alphabetic characters\n",
    "\n",
    "# df = df[df.apply(lambda x: any(c.isalpha() for c in x['Title']) and\n",
    "#                             any(c.isalpha() for c in x['Poem']), axis=1)]\n",
    "\n",
    "# Filter out rows with no value (its not NaN its '' in this dataset)\n",
    "df = df[df.apply(lambda x: any(c.isalpha() for c in x['Poem']), axis=1)]"
   ]
  },
  {
   "cell_type": "code",
   "execution_count": 11,
   "metadata": {
    "id": "54d2c668-0a97-4e00-8976-f5260fb83bd7",
    "outputId": "de90cac7-0b17-45ec-d9ae-46c21a88a93d"
   },
   "outputs": [],
   "source": [
    "# Make newline a special token\n",
    "# df['Title'] = 'START ' + df['Title'] + ' END'\n",
    "df['Poem'] = 'START ' + df['Poem'] + ' END'\n",
    "\n",
    "df['Poem'] = df['Poem'].apply(lambda x: re.sub(r'\\n', ' N ', x))"
   ]
  },
  {
   "cell_type": "code",
   "execution_count": 12,
   "metadata": {
    "id": "255a982a-7b39-49eb-814f-c56e15fc6b44"
   },
   "outputs": [],
   "source": [
    "def remove_numeric_tokens(text):\n",
    "    tokens = word_tokenize(text)\n",
    "    # Filter tokens to exclude any that contain digits\n",
    "    filtered_tokens = [token for token in tokens if not re.search(r'\\d', token)]\n",
    "    processed_text = ' '.join(filtered_tokens)\n",
    "    return processed_text\n",
    "\n",
    "df['Poem'] = df['Poem'].apply(remove_numeric_tokens)"
   ]
  },
  {
   "cell_type": "code",
   "execution_count": 13,
   "metadata": {
    "id": "HuEV8lK0uaQV",
    "outputId": "a5c549af-cf15-408e-c308-eb9da816291a"
   },
   "outputs": [
    {
     "data": {
      "text/html": [
       "<div>\n",
       "<style scoped>\n",
       "    .dataframe tbody tr th:only-of-type {\n",
       "        vertical-align: middle;\n",
       "    }\n",
       "\n",
       "    .dataframe tbody tr th {\n",
       "        vertical-align: top;\n",
       "    }\n",
       "\n",
       "    .dataframe thead th {\n",
       "        text-align: right;\n",
       "    }\n",
       "</style>\n",
       "<table border=\"1\" class=\"dataframe\">\n",
       "  <thead>\n",
       "    <tr style=\"text-align: right;\">\n",
       "      <th></th>\n",
       "      <th>Poem</th>\n",
       "    </tr>\n",
       "  </thead>\n",
       "  <tbody>\n",
       "    <tr>\n",
       "      <th>13835</th>\n",
       "      <td>START dear writers , im compiling the first in what i hope is a series of publications im calling artists among artists . the theme for issue is “ faggot dinosaur. ” i hope to hear from you ! thank you and best wishes . END</td>\n",
       "    </tr>\n",
       "    <tr>\n",
       "      <th>13848</th>\n",
       "      <td>START the wise men will unlearn your name . N above your head no star will flame . N one weary sound will be the same— N the hoarse roar of the gale . N the shadows fall from your tired eyes N as your lone bedside candle dies , N for here the calendar breeds nights N till stores of candles fail . N what prompts this melancholy key ? N a long familiar melody . N it sounds again . so let it be . N let it sound from this night . N let it sound in my hour of death— N as gratefulness of eyes and lips N for that which sometimes makes us lift N our gaze to the far sky . N you glare in silence at the wall . N your stocking gapes : no gifts at all . N its clear that you are now too old N to trust in good saint nick ; N that its too late for miracles . N —but suddenly , lifting your eyes N to heavens light , you realize : N your life is a sheer gift . END</td>\n",
       "    </tr>\n",
       "    <tr>\n",
       "      <th>13849</th>\n",
       "      <td>START wed like to talk with you about fear they said so N many people live in fear these days they drove up N all four of them in a small car nice boy they said N beautiful dogs they said so friendly the man ahead N of the woman the other two waiting in the drive i N was outside digging up the garden no one home i said N what are you selling anyway im not interested i N said well you have a nice day they said heres our N card theres a phone number you can call anytime N any other houses down this road anyone else live N here wed like to talk to them about living in fear END</td>\n",
       "    </tr>\n",
       "    <tr>\n",
       "      <th>13852</th>\n",
       "      <td>START philosophic N in its complex , ovoid emptiness , N a skillful pundit coined it as a sort N of stopgap doorstop for those N quaint equations romans never N dreamt of . in form completely clever N and discrete—a mirror come unsilvered , loose watch face without the works , a hollowed globe from tip to toe N unbroken , it evades the grappling N hooks of mass , tilts the thin rim of no thing , remains embryonic sum , non-cogito . END</td>\n",
       "    </tr>\n",
       "    <tr>\n",
       "      <th>13853</th>\n",
       "      <td>START dear writers , im compiling the first in what i hope is a series of publications im calling artists among artists . the theme for issue is “ faggot dinosaur. ” i hope to hear from you ! thank you and best wishes . END</td>\n",
       "    </tr>\n",
       "  </tbody>\n",
       "</table>\n",
       "</div>"
      ],
      "text/plain": [
       "                                                                                                                                                                                                                                                                                                                                                                                                                                                                                                                                                                                                                                                                                                                                                                                                                                                                                            Poem\n",
       "13835                                                                                                                                                                                                                                                                                                                                                                                                                                                                                                                                                                                                                                                            START dear writers , im compiling the first in what i hope is a series of publications im calling artists among artists . the theme for issue is “ faggot dinosaur. ” i hope to hear from you ! thank you and best wishes . END\n",
       "13848  START the wise men will unlearn your name . N above your head no star will flame . N one weary sound will be the same— N the hoarse roar of the gale . N the shadows fall from your tired eyes N as your lone bedside candle dies , N for here the calendar breeds nights N till stores of candles fail . N what prompts this melancholy key ? N a long familiar melody . N it sounds again . so let it be . N let it sound from this night . N let it sound in my hour of death— N as gratefulness of eyes and lips N for that which sometimes makes us lift N our gaze to the far sky . N you glare in silence at the wall . N your stocking gapes : no gifts at all . N its clear that you are now too old N to trust in good saint nick ; N that its too late for miracles . N —but suddenly , lifting your eyes N to heavens light , you realize : N your life is a sheer gift . END\n",
       "13849                                                                                                                                                                                                                                                                                       START wed like to talk with you about fear they said so N many people live in fear these days they drove up N all four of them in a small car nice boy they said N beautiful dogs they said so friendly the man ahead N of the woman the other two waiting in the drive i N was outside digging up the garden no one home i said N what are you selling anyway im not interested i N said well you have a nice day they said heres our N card theres a phone number you can call anytime N any other houses down this road anyone else live N here wed like to talk to them about living in fear END\n",
       "13852                                                                                                                                                                                                                                                                                                                                                                                                                                    START philosophic N in its complex , ovoid emptiness , N a skillful pundit coined it as a sort N of stopgap doorstop for those N quaint equations romans never N dreamt of . in form completely clever N and discrete—a mirror come unsilvered , loose watch face without the works , a hollowed globe from tip to toe N unbroken , it evades the grappling N hooks of mass , tilts the thin rim of no thing , remains embryonic sum , non-cogito . END\n",
       "13853                                                                                                                                                                                                                                                                                                                                                                                                                                                                                                                                                                                                                                                            START dear writers , im compiling the first in what i hope is a series of publications im calling artists among artists . the theme for issue is “ faggot dinosaur. ” i hope to hear from you ! thank you and best wishes . END"
      ]
     },
     "execution_count": 13,
     "metadata": {},
     "output_type": "execute_result"
    }
   ],
   "source": [
    "df.tail()"
   ]
  },
  {
   "cell_type": "code",
   "execution_count": 14,
   "metadata": {
    "id": "b6047bbd-4793-4e2f-8253-475883f55e9d",
    "outputId": "3de94969-859f-4fa8-c0df-b7ca0c8b68c6"
   },
   "outputs": [
    {
     "data": {
      "text/plain": [
       "Poem    0\n",
       "dtype: int64"
      ]
     },
     "execution_count": 14,
     "metadata": {},
     "output_type": "execute_result"
    }
   ],
   "source": [
    "df.isna().sum()"
   ]
  },
  {
   "cell_type": "code",
   "execution_count": 15,
   "metadata": {
    "id": "9e54db8f-fd00-4736-972c-95dbfb990694",
    "outputId": "705122bb-14e2-4c4d-8ff3-2c1787f0206e"
   },
   "outputs": [
    {
     "data": {
      "text/plain": [
       "13751"
      ]
     },
     "execution_count": 15,
     "metadata": {},
     "output_type": "execute_result"
    }
   ],
   "source": [
    "df.size"
   ]
  },
  {
   "cell_type": "code",
   "execution_count": 16,
   "metadata": {
    "id": "8568E4YRuaQV"
   },
   "outputs": [],
   "source": [
    "tokenizer = ByteLevelBPETokenizer()\n",
    "\n",
    "# Saving poems to a file (required for tokenizer training)\n",
    "poem_file = \"poems.txt\"\n",
    "with open(poem_file, \"w\", encoding='utf-8') as file:  # Specify UTF-8 encoding\n",
    "    file.write('\\n'.join(df['Poem']))\n",
    "\n",
    "# Train the tokenizer on the poems\n",
    "tokenizer.train(files=[poem_file], vocab_size=7000, min_frequency=1, special_tokens=[\"START\", \"END\", \"N\", \"UNK\", \"PAD\"])"
   ]
  },
  {
   "cell_type": "code",
   "execution_count": 17,
   "metadata": {
    "id": "0UmIT2dIuaQW",
    "outputId": "e01ddb92-c00e-45f7-cec2-b2442bd59d11"
   },
   "outputs": [
    {
     "name": "stdout",
     "output_type": "stream",
     "text": [
      "Top 15 longest tokenized poem lengths: [25162, 16673, 15625, 13895, 12472, 12318, 11890, 11622, 11585, 11376, 11034, 10809, 10155, 10132, 9336]\n",
      "Longest length after operations: 501\n"
     ]
    }
   ],
   "source": [
    "# Tokenize poems and store the token IDs\n",
    "df['Tokenized_Poem'] = df['Poem'].apply(lambda poem: tokenizer.encode(poem).ids)\n",
    "df['Token_Length'] = df['Tokenized_Poem'].apply(len)\n",
    "\n",
    "# Find the longest lengths and sort them\n",
    "sorted_lengths = sorted(df['Token_Length'], reverse=True)\n",
    "top_15_lengths = sorted_lengths[:15]\n",
    "print(\"Top 15 longest tokenized poem lengths:\", top_15_lengths)\n",
    "\n",
    "max_length = 500\n",
    "\n",
    "# Ensure END token is known or defined\n",
    "END_token_id = tokenizer.token_to_id(\"END\")\n",
    "\n",
    "# Function to trim poems and append END token\n",
    "def trim_and_append_end(poem_tokens):\n",
    "    if len(poem_tokens) > max_length:\n",
    "        return poem_tokens[:max_length] + [END_token_id]\n",
    "    return poem_tokens\n",
    "\n",
    "# Apply trimming and END token appending\n",
    "df['Tokenized_Poem'] = df['Tokenized_Poem'].apply(trim_and_append_end)\n",
    "\n",
    "# Update the 'Token_Length' to reflect the post-operation lengths\n",
    "df['Token_Length'] = df['Tokenized_Poem'].apply(len)\n",
    "\n",
    "# Appoint longest_length as the longest poem length after all operations\n",
    "longest_length = max(df['Token_Length'])\n",
    "print(\"Longest length after operations:\", longest_length)"
   ]
  },
  {
   "cell_type": "code",
   "execution_count": 18,
   "metadata": {
    "id": "0cb421f7-9dac-4651-a2cb-9167ffad6ab4"
   },
   "outputs": [],
   "source": [
    "vocab_size = tokenizer.get_vocab_size()  # Number of unique words in the vocabulary\n",
    "embedding_dim = 256\n",
    "batch_size = 16 # Increase batch size if resources allow as it bring stabilization, 1 is very noisy\n",
    "learning_rate = 0.001 # changed lr because maybe the embedding dim is too low and lr is too high so gradient is just bouncing around and not learning much\n",
    "heads = 4\n",
    "epochs = 10\n",
    "device = torch.device(\"cuda\" if torch.cuda.is_available() else \"cpu\")"
   ]
  },
  {
   "cell_type": "code",
   "execution_count": 19,
   "metadata": {},
   "outputs": [
    {
     "name": "stdout",
     "output_type": "stream",
     "text": [
      "[0, 1660, 2168, 266, 318, 501, 2558, 266, 224, 2, 5345, 1715, 617, 3947, 266, 2055, 2083, 1917, 224, 2, 913, 414, 1241, 346, 2452, 428, 79, 1779, 224, 2, 473, 1451, 266, 282, 1779, 6644, 278, 224, 2, 6462, 395, 72, 4981, 266, 5224, 325, 5248, 266, 224, 2, 1660, 425, 1072, 266, 3981, 5494, 224, 2, 913, 414, 1241, 552, 265, 1072, 1321, 565, 278, 224, 2, 398, 356, 2520, 278, 398, 2491, 278, 224, 2, 2362, 1256, 277, 266, 341, 374, 288, 3390, 266, 1511, 224, 2, 3892, 288, 954, 2391, 574, 558, 224, 2, 913, 414, 1241, 346, 2183, 428, 820, 302, 280, 283, 464, 424, 224, 2, 889, 266, 464, 424, 1959, 278, 224, 2, 6179, 1884, 266, 1916, 5157, 266, 224, 2, 2114, 5345, 69, 725, 444, 224, 2, 913, 414, 1241, 346, 3474, 278, 455, 1599, 1677, 224, 2, 295, 788, 278, 224, 2, 4976, 3739, 266, 6053, 1053, 1063, 266, 224, 2, 6055, 3567, 266, 3270, 831, 1958, 224, 2, 913, 414, 1241, 266, 455, 6946, 17, 656, 278, 455, 663, 224, 2, 262, 2995, 288, 775, 278, 224, 1]\n",
      "188\n"
     ]
    }
   ],
   "source": [
    "for poem in df['Tokenized_Poem']:\n",
    "    print(poem)\n",
    "    print(len(poem))\n",
    "    break"
   ]
  },
  {
   "cell_type": "code",
   "execution_count": 20,
   "metadata": {},
   "outputs": [],
   "source": [
    "def preprocessing(df, pad_token, batch_size):\n",
    "    input_tensor = []\n",
    "    target_tensor = []\n",
    "    for poem in df['Tokenized_Poem']:\n",
    "        input_tensor.append(torch.tensor(poem[:len(poem)-1]))\n",
    "        target_tensor.append(torch.tensor(poem[1:len(poem)]))\n",
    "    \n",
    "    \n",
    "    input_tensor = torch.nn.utils.rnn.pad_sequence(input_tensor, padding_value=pad_token, batch_first=True)\n",
    "    target_tensor = torch.nn.utils.rnn.pad_sequence(target_tensor, padding_value=pad_token, batch_first=True)\n",
    "    \n",
    "    return input_tensor, target_tensor\n",
    "\n",
    "pad_token = tokenizer.token_to_id(\"PAD\")         \n",
    "input_tensor, target_tensor = preprocessing(df, pad_token, batch_size)"
   ]
  },
  {
   "cell_type": "code",
   "execution_count": 21,
   "metadata": {},
   "outputs": [
    {
     "data": {
      "text/plain": [
       "torch.Size([13751, 500])"
      ]
     },
     "execution_count": 21,
     "metadata": {},
     "output_type": "execute_result"
    }
   ],
   "source": [
    "input_tensor.shape"
   ]
  },
  {
   "cell_type": "code",
   "execution_count": 22,
   "metadata": {},
   "outputs": [
    {
     "data": {
      "text/plain": [
       "torch.Size([13751, 500])"
      ]
     },
     "execution_count": 22,
     "metadata": {},
     "output_type": "execute_result"
    }
   ],
   "source": [
    "target_tensor.shape"
   ]
  },
  {
   "cell_type": "code",
   "execution_count": 39,
   "metadata": {},
   "outputs": [
    {
     "data": {
      "text/plain": [
       "tensor([   0, 5653,  787,  267, 1045,  659,  771, 4214,  812,  266,  262, 4571,\n",
       "         300, 1072,  224,    2, 4630,  667,  455, 3127,  294, 1152, 1325,  452,\n",
       "         455, 2344,  266,  677,  224,    2,  401, 4648,   81,  423,  751,  266,\n",
       "        6109, 6578,  508,  353,  262, 1022, 3630,  278,  224,    2,  498,  630,\n",
       "         267, 1220,   70, 3254,  430,  399,  498,  422,  267, 1220,   70, 3254,\n",
       "         530,  430,  399,  224,    2,  274,  512,  295,  262,  747, 4034,  294,\n",
       "         267, 6037, 1287, 1939,  224,    2,  317,  414, 4310,  278, 2382,   72,\n",
       "         376, 3872,  278, 3700, 6037, 1042,  278,  224,    2, 5653,  787,  498,\n",
       "         347, 3423, 1640,  278,  386, 6832,  224,    2,  659,  689, 2833,  460,\n",
       "         262, 1241,  384,  346,  387,  922,  266,  267, 4029, 2305,  224,    2,\n",
       "         224,    2,  401, 5790, 1210,  278, 1087,   75,  410, 3508,   80,  278,\n",
       "         294,  314,  295,  749,  278,  224,    2,  347, 3423, 1126,  328,  346,\n",
       "        5297,  266,  285,  274, 3657,  347,  720,  224,    2,  913,  274,  627,\n",
       "         587,  401,  294, 1070,  295,  888,  262,  673,  224,    2,  498,  369,\n",
       "        2402,   92,   17,   81,  486, 1410,  675, 3830,  719,  460,  262, 1241,\n",
       "         224,    2,  285, 2151, 2585, 1135,  294,  267, 1230,  266,  295,  722,\n",
       "         267, 5499,  224,    2,  288,  386,  824, 5790,  262, 1005,  897,  266,\n",
       "         403,  297,  270,  497,  278,  295,  442,  980,  224,    2,  288,  267,\n",
       "        2051,  264, 1249, 2006,  371,  498,  340,  502, 4175,  508,  267,  628,\n",
       "         266,  224,    2,  267, 4599,   92,   17, 5586,   17, 1134, 1017,  406,\n",
       "        2208, 4072,  295,  386, 1474,   17,   83,  836,  277,  971,  224,    2,\n",
       "         224,    2,  667,  267,  509,  535,   92,  288,  262, 4341, 1626,  266,\n",
       "         455, 2035, 1030, 4160,  224,    2,  262,  801, 3073,  278,  687, 3664,\n",
       "        1399,  502,  580,  949,  369, 1217,  449,   74,  634,  224,    2,  288,\n",
       "         267,  734, 1730,  292, 2440,  288,  279,   93,  132,  251, 4927,  374,\n",
       "         303,   68,  266,  267, 1450,  791,  680, 2980,  224,    2,  903,  447,\n",
       "         353,  507,  411,  659,  771, 2163, 5120,  278,  434,  383,  414, 1656,\n",
       "         224,    2, 3368,  267, 4277,  399,  434,  870,  341,  917,  295, 3744,\n",
       "         266,  267, 2117,  492,  224,    2,  288, 3817,  907, 2118,  399,  267,\n",
       "         376,  408,  677,  401, 1625, 1109,  293,  324,  713,  266,  224,    2,\n",
       "         267, 6237, 3987,  681,  278,  454,  274,  724,  288,  347,  980,  295,\n",
       "         267,  804,  266,  224,    2,  274, 1127, 2979,  278,  262,  967,  288,\n",
       "         262,  967, 1002, 3564, 3041,  262,  984, 1884,  224,    2,  224,    2,\n",
       "         345,  370,  747,  278,  383,  267,  752,  288,  347, 4918, 6747,  262,\n",
       "        1884,  224,    2,  346, 3164,  317,  262, 1378,   75, 1219, 3899,  266,\n",
       "         267, 1884,  262,  493, 5422,  459,  277,  438,  224,    2,  401,  267,\n",
       "         995,  288,  526,  278,  421,  442, 2666,  294, 1688,  266,  224,    2,\n",
       "         671,  347,  967,  278, 4432, 3836, 1156,  286,  278,  274,  422,  360,\n",
       "        4168,  414,  266,  224,    2,  224,    2,  380,  674,  267, 5459,  583,\n",
       "         297,  731, 1514,  617,  288,  267, 6902,  224,    2, 2194,  317,  267,\n",
       "        4949, 1627,  266,  318, 2751,  280,  224,    2,  267, 1606,   17,  261,\n",
       "        1929,   92, 3701,  345,  445, 5560, 3791,  278])"
      ]
     },
     "execution_count": 39,
     "metadata": {},
     "output_type": "execute_result"
    }
   ],
   "source": [
    "input_tensor[51]"
   ]
  },
  {
   "cell_type": "code",
   "execution_count": 38,
   "metadata": {},
   "outputs": [
    {
     "data": {
      "text/plain": [
       "tensor([5653,  787,  267, 1045,  659,  771, 4214,  812,  266,  262, 4571,  300,\n",
       "        1072,  224,    2, 4630,  667,  455, 3127,  294, 1152, 1325,  452,  455,\n",
       "        2344,  266,  677,  224,    2,  401, 4648,   81,  423,  751,  266, 6109,\n",
       "        6578,  508,  353,  262, 1022, 3630,  278,  224,    2,  498,  630,  267,\n",
       "        1220,   70, 3254,  430,  399,  498,  422,  267, 1220,   70, 3254,  530,\n",
       "         430,  399,  224,    2,  274,  512,  295,  262,  747, 4034,  294,  267,\n",
       "        6037, 1287, 1939,  224,    2,  317,  414, 4310,  278, 2382,   72,  376,\n",
       "        3872,  278, 3700, 6037, 1042,  278,  224,    2, 5653,  787,  498,  347,\n",
       "        3423, 1640,  278,  386, 6832,  224,    2,  659,  689, 2833,  460,  262,\n",
       "        1241,  384,  346,  387,  922,  266,  267, 4029, 2305,  224,    2,  224,\n",
       "           2,  401, 5790, 1210,  278, 1087,   75,  410, 3508,   80,  278,  294,\n",
       "         314,  295,  749,  278,  224,    2,  347, 3423, 1126,  328,  346, 5297,\n",
       "         266,  285,  274, 3657,  347,  720,  224,    2,  913,  274,  627,  587,\n",
       "         401,  294, 1070,  295,  888,  262,  673,  224,    2,  498,  369, 2402,\n",
       "          92,   17,   81,  486, 1410,  675, 3830,  719,  460,  262, 1241,  224,\n",
       "           2,  285, 2151, 2585, 1135,  294,  267, 1230,  266,  295,  722,  267,\n",
       "        5499,  224,    2,  288,  386,  824, 5790,  262, 1005,  897,  266,  403,\n",
       "         297,  270,  497,  278,  295,  442,  980,  224,    2,  288,  267, 2051,\n",
       "         264, 1249, 2006,  371,  498,  340,  502, 4175,  508,  267,  628,  266,\n",
       "         224,    2,  267, 4599,   92,   17, 5586,   17, 1134, 1017,  406, 2208,\n",
       "        4072,  295,  386, 1474,   17,   83,  836,  277,  971,  224,    2,  224,\n",
       "           2,  667,  267,  509,  535,   92,  288,  262, 4341, 1626,  266,  455,\n",
       "        2035, 1030, 4160,  224,    2,  262,  801, 3073,  278,  687, 3664, 1399,\n",
       "         502,  580,  949,  369, 1217,  449,   74,  634,  224,    2,  288,  267,\n",
       "         734, 1730,  292, 2440,  288,  279,   93,  132,  251, 4927,  374,  303,\n",
       "          68,  266,  267, 1450,  791,  680, 2980,  224,    2,  903,  447,  353,\n",
       "         507,  411,  659,  771, 2163, 5120,  278,  434,  383,  414, 1656,  224,\n",
       "           2, 3368,  267, 4277,  399,  434,  870,  341,  917,  295, 3744,  266,\n",
       "         267, 2117,  492,  224,    2,  288, 3817,  907, 2118,  399,  267,  376,\n",
       "         408,  677,  401, 1625, 1109,  293,  324,  713,  266,  224,    2,  267,\n",
       "        6237, 3987,  681,  278,  454,  274,  724,  288,  347,  980,  295,  267,\n",
       "         804,  266,  224,    2,  274, 1127, 2979,  278,  262,  967,  288,  262,\n",
       "         967, 1002, 3564, 3041,  262,  984, 1884,  224,    2,  224,    2,  345,\n",
       "         370,  747,  278,  383,  267,  752,  288,  347, 4918, 6747,  262, 1884,\n",
       "         224,    2,  346, 3164,  317,  262, 1378,   75, 1219, 3899,  266,  267,\n",
       "        1884,  262,  493, 5422,  459,  277,  438,  224,    2,  401,  267,  995,\n",
       "         288,  526,  278,  421,  442, 2666,  294, 1688,  266,  224,    2,  671,\n",
       "         347,  967,  278, 4432, 3836, 1156,  286,  278,  274,  422,  360, 4168,\n",
       "         414,  266,  224,    2,  224,    2,  380,  674,  267, 5459,  583,  297,\n",
       "         731, 1514,  617,  288,  267, 6902,  224,    2, 2194,  317,  267, 4949,\n",
       "        1627,  266,  318, 2751,  280,  224,    2,  267, 1606,   17,  261, 1929,\n",
       "          92, 3701,  345,  445, 5560, 3791,  278,    1])"
      ]
     },
     "execution_count": 38,
     "metadata": {},
     "output_type": "execute_result"
    }
   ],
   "source": [
    "target_tensor[51]"
   ]
  },
  {
   "cell_type": "code",
   "execution_count": 25,
   "metadata": {},
   "outputs": [],
   "source": [
    "dataset = TensorDataset(input_tensor, target_tensor)\n",
    "data_loader = DataLoader(dataset, batch_size=batch_size)"
   ]
  },
  {
   "cell_type": "code",
   "execution_count": 26,
   "metadata": {
    "id": "e2e72b79-940c-4aac-9e26-6f4428469425"
   },
   "outputs": [
    {
     "name": "stdout",
     "output_type": "stream",
     "text": [
      "Number of batches:  860\n"
     ]
    }
   ],
   "source": [
    "n_batches = 0\n",
    "for i in data_loader:\n",
    "    n_batches+=1\n",
    "    \n",
    "print(\"Number of batches: \",n_batches)"
   ]
  },
  {
   "cell_type": "code",
   "execution_count": 27,
   "metadata": {
    "id": "ae6bi9LpuaQW",
    "outputId": "61b8a90d-6550-4171-934e-058f893618cf"
   },
   "outputs": [
    {
     "data": {
      "text/plain": [
       "4"
      ]
     },
     "execution_count": 27,
     "metadata": {},
     "output_type": "execute_result"
    }
   ],
   "source": [
    "pad_token"
   ]
  },
  {
   "cell_type": "code",
   "execution_count": 28,
   "metadata": {
    "id": "3cc71826-b2db-4607-96cb-fdb8fe327305"
   },
   "outputs": [],
   "source": [
    "class WordEmbedder(nn.Module):\n",
    "    def __init__(self, vocab_size, embedding_dim):\n",
    "        super().__init__()\n",
    "        self.embeddings = nn.Embedding(num_embeddings=vocab_size, embedding_dim=embedding_dim)\n",
    "\n",
    "    def forward(self, x):\n",
    "        return self.embeddings(x)"
   ]
  },
  {
   "cell_type": "code",
   "execution_count": 29,
   "metadata": {
    "id": "97ec5fef-72c5-4524-b4b2-2c3df5905682"
   },
   "outputs": [],
   "source": [
    "# Now that we have successfully trained our word embedding layer, time to make our positional matrix, which we will make using the formula mentioned in the paper\n",
    "def positional_encoding(seq_len, embedding_dim, device=device):\n",
    "        positional_encoding = torch.zeros(seq_len, embedding_dim)\n",
    "        position = torch.arange(0, seq_len, dtype=torch.float32).unsqueeze(1)\n",
    "        div_term = torch.exp(torch.arange(0, embedding_dim, 2).float() * (-torch.log(torch.tensor(10000.0)) / embedding_dim))\n",
    "        positional_encoding[:, 0::2] = torch.sin(position * div_term)\n",
    "        positional_encoding[:, 1::2] = torch.cos(position * div_term)\n",
    "        return positional_encoding"
   ]
  },
  {
   "cell_type": "code",
   "execution_count": 30,
   "metadata": {
    "id": "eb6f80c9-fd5a-4014-8750-3724b592e8fd"
   },
   "outputs": [],
   "source": [
    "# Time to make the Multi-head Self Attention block\n",
    "class MultiHeadSelfAttention(nn.Module):\n",
    "    def __init__(self, heads, embedding_dim):\n",
    "        super(MultiHeadSelfAttention, self).__init__()\n",
    "        self.heads = heads\n",
    "\n",
    "        # 3 Linear Layers for Q, K and V\n",
    "        self.w_q = nn.Linear(embedding_dim, embedding_dim)\n",
    "        self.w_k = nn.Linear(embedding_dim, embedding_dim)\n",
    "        self.w_v = nn.Linear(embedding_dim, embedding_dim)\n",
    "\n",
    "        # Since the feature or embedding dimension is typically the last dimension\n",
    "        self.softmax = nn.Softmax(dim=-1)\n",
    "\n",
    "        # Last Linear layer for the attention\n",
    "        self.w_a = nn.Linear(embedding_dim, embedding_dim)\n",
    "\n",
    "    def forward(self, embedding_vector):\n",
    "        batch_size, seq_len, embedding_dim = embedding_vector.size()\n",
    "        # Compute Q, K, and V\n",
    "        Q = self.w_q(embedding_vector)\n",
    "        K = self.w_k(embedding_vector)\n",
    "        V = self.w_v(embedding_vector)\n",
    "\n",
    "        # Seperate into heads\n",
    "        head_dim = embedding_dim // self.heads\n",
    "        Q = Q.view(batch_size, self.heads, seq_len, head_dim)\n",
    "        K = K.view(batch_size, self.heads, seq_len, head_dim)\n",
    "        V = V.view(batch_size, self.heads, seq_len, head_dim)\n",
    "\n",
    "        # Calculate attention\n",
    "        attention = torch.matmul(self.softmax(torch.matmul(Q, K.transpose(-1, -2)) / torch.sqrt(torch.tensor(embedding_dim))), V)\n",
    "\n",
    "        # Concatenating the attention heads (Transposing for correct concatenation)\n",
    "        attention = attention.transpose(1, 2).reshape(batch_size, seq_len, embedding_dim)\n",
    "        output = self.w_a(attention)\n",
    "        # print(\"Shape after attention:\", output.shape)\n",
    "        # num_active_elements = torch.gt(output, -1).sum().item()\n",
    "        # total_elements = output.numel()\n",
    "        # print(f\"active  att: {num_active_elements}/{total_elements}\")\n",
    "        return output"
   ]
  },
  {
   "cell_type": "code",
   "execution_count": 47,
   "metadata": {
    "id": "6e0155ef-eee5-41c3-8c1b-48d9f40dc0ee"
   },
   "outputs": [],
   "source": [
    "# Time to make the Masked Multi-head Self Attention block\n",
    "class MaskedMultiHeadSelfAttention(nn.Module):\n",
    "    def __init__(self, heads, embedding_dim):\n",
    "        super(MaskedMultiHeadSelfAttention, self).__init__()\n",
    "        self.heads = heads\n",
    "\n",
    "        # 3 Linear Layers for Q, K and V\n",
    "        self.w_q = nn.Linear(embedding_dim, embedding_dim)\n",
    "        self.w_k = nn.Linear(embedding_dim, embedding_dim)\n",
    "        self.w_v = nn.Linear(embedding_dim, embedding_dim)\n",
    "\n",
    "        # Since the feature or embedding dimension is typically the last dimension\n",
    "        self.softmax = nn.Softmax(dim=-1)\n",
    "\n",
    "        # Last Linear layer for the attention\n",
    "        self.w_a = nn.Linear(embedding_dim, embedding_dim)\n",
    "\n",
    "    def forward(self, embedding_vector):\n",
    "        batch_size, seq_len, embedding_dim = embedding_vector.size()\n",
    "        # Compute Q, K, and V\n",
    "        Q = self.w_q(embedding_vector)\n",
    "        K = self.w_k(embedding_vector)\n",
    "        V = self.w_v(embedding_vector)\n",
    "\n",
    "        # Seperate into heads\n",
    "        head_dim = embedding_dim // self.heads\n",
    "        Q = Q.view(batch_size, self.heads, seq_len, head_dim)\n",
    "        K = K.view(batch_size, self.heads, seq_len, head_dim)\n",
    "        V = V.view(batch_size, self.heads, seq_len, head_dim)\n",
    "\n",
    "        # Create a mask for masking the attention score\n",
    "        mask = torch.triu(torch.ones(seq_len, seq_len, dtype=torch.bool), diagonal=1).unsqueeze(0).unsqueeze(0).expand(batch_size, self.heads, -1, -1).to(device)\n",
    "        value_to_fill = float('-inf')\n",
    "\n",
    "        # Calculate attention (including mask)\n",
    "        attention = torch.matmul(self.softmax(torch.matmul(Q, K.transpose(-1, -2)).masked_fill(mask, value_to_fill) / torch.sqrt(torch.tensor(embedding_dim))), V)\n",
    "        # Concatenating the attention heads (Transposing for correct concatenation)\n",
    "        attention = attention.transpose(1, 2).reshape(batch_size, seq_len, embedding_dim)\n",
    "        output = self.w_a(attention)\n",
    "        # print(\"Shape after mask:\", output.shape)\n",
    "        # num_active_elements = torch.gt(output, -1).sum().item()\n",
    "        # total_elements = output.numel()\n",
    "        # print(f\"active masked: {num_active_elements}/{total_elements}\")\n",
    "        return output"
   ]
  },
  {
   "cell_type": "code",
   "execution_count": 48,
   "metadata": {
    "id": "c54ecdfc-9f1c-4120-8578-46e05d1c2069"
   },
   "outputs": [],
   "source": [
    "class AddNorm(nn.Module):\n",
    "    def __init__(self, n_features):\n",
    "        super(AddNorm, self).__init__()\n",
    "        # Layer Norm will normalize the last dimension of the matrix\n",
    "        self.norm = nn.LayerNorm(n_features)\n",
    "\n",
    "    def forward(self, original, modified):\n",
    "        return self.norm(original + modified)"
   ]
  },
  {
   "cell_type": "code",
   "execution_count": 49,
   "metadata": {
    "id": "a1a5b4a5-96f7-40ba-9193-ab6e0dd7ccfc"
   },
   "outputs": [],
   "source": [
    "class FeedForward(nn.Module):\n",
    "    def __init__(self, embedding_dim):\n",
    "        super(FeedForward, self).__init__()\n",
    "        # Normally nn.Linear(embedding_dim, embedding_dim * 4) for expressiveness, we will change it if we have the resources to do so\n",
    "        self.lr1 = nn.Linear(embedding_dim, embedding_dim)\n",
    "        self.relu = nn.ReLU()\n",
    "        self.lr2 = nn.Linear(embedding_dim, embedding_dim)\n",
    "\n",
    "    def forward(self, x):\n",
    "        x = self.lr1(x)\n",
    "        x = self.relu(x)\n",
    "        x = self.lr2(x)\n",
    "        # num_active_elements = torch.gt(x, -1).sum().item()\n",
    "        # total_elements = x.numel()\n",
    "        # print(f\"active feedforward: {num_active_elements}/{total_elements}\")\n",
    "        return x"
   ]
  },
  {
   "cell_type": "code",
   "execution_count": 50,
   "metadata": {
    "id": "9fe1f5ed-35ce-479b-b596-d2cc95a2c06c"
   },
   "outputs": [],
   "source": [
    "# Time to build the Decoder\n",
    "class Decoder(nn.Module):\n",
    "    def __init__(self, vocab_size, embedding_dim, batch_size, max_length, heads):\n",
    "        super(Decoder, self).__init__()\n",
    "        self.word_embedder = WordEmbedder(vocab_size, embedding_dim)\n",
    "        self.masked_attention = MaskedMultiHeadSelfAttention(heads, embedding_dim)\n",
    "        self.add_norm1 = AddNorm(embedding_dim)\n",
    "        self.attention = MultiHeadSelfAttention(heads, embedding_dim)\n",
    "        self.add_norm2 = AddNorm(embedding_dim)\n",
    "        self.feed_forward = FeedForward(embedding_dim)\n",
    "        self.add_norm3 = AddNorm(embedding_dim)\n",
    "        self.linear = nn.Linear(embedding_dim, vocab_size)\n",
    "\n",
    "    def forward(self, x):\n",
    "        # print(\"Shape before word embedder:\", x.shape)\n",
    "        x = self.word_embedder(x)\n",
    "        # print(\"Shape after word embedder/before positional:\", x.shape)\n",
    "        # num_active_elements = torch.gt(x, -1).sum().item()\n",
    "        # total_elements = x.numel()\n",
    "        # print(f\"active word embedder: {num_active_elements}/{total_elements}\")\n",
    "        x += positional_encoding(x.size(1), embedding_dim).unsqueeze(0).expand(x.size(0), -1, -1).to(device)\n",
    "        # print(\"Shape after positional:\", x.shape)\n",
    "        # num_active_elements = torch.gt(x, -1).sum().item()\n",
    "        # total_elements = x.numel()\n",
    "        # print(f\"active positional_encoding: {num_active_elements}/{total_elements}\")\n",
    "#         print(x.shape)\n",
    "        x = self.add_norm1(x, self.masked_attention(x))\n",
    "        # print(\"Shape after addnorm1:\", x.shape)\n",
    "        # num_active_elements = torch.gt(x, -1).sum().item()\n",
    "        # total_elements = x.numel()\n",
    "        # print(f\"active add_norm1: {num_active_elements}/{total_elements}\")\n",
    "#         print(x.shape)\n",
    "        x = self.add_norm2(x, self.attention(x))\n",
    "        # print(\"Shape after addnorm2:\", x.shape)\n",
    "        # num_active_elements = torch.gt(x, -1).sum().item()\n",
    "        # total_elements = x.numel()\n",
    "        # print(f\"active add_nor2: {num_active_elements}/{total_elements}\")\n",
    "#         print(x.shape)\n",
    "        x = self.add_norm3(x, self.feed_forward(x))\n",
    "        # print(\"Shape after addnorm3:\", x.shape)\n",
    "        # num_active_elements = torch.gt(x, -1).sum().item()\n",
    "        # total_elements = x.numel()\n",
    "        # print(f\"active add_norm3: {num_active_elements}/{total_elements}\")\n",
    "#         print(x.shape)\n",
    "        # print(\"Shape before linear:\", x.shape)\n",
    "        logits = self.linear(x)\n",
    "        # print(\"Shape after linear:\", logits.shape)\n",
    "        # num_active_elements = torch.gt(logits, 0).sum().item()\n",
    "        # total_elements = logits.numel()\n",
    "        # print(f\"active linear: {num_active_elements}/{total_elements}\")\n",
    "        # print(logits.shape)\n",
    "        return F.softmax(logits, dim=-1)"
   ]
  },
  {
   "cell_type": "code",
   "execution_count": 51,
   "metadata": {
    "id": "881cd445-c7fb-4f2b-ae1f-d6807b2f76a5"
   },
   "outputs": [],
   "source": [
    "model = Decoder(vocab_size, embedding_dim, batch_size, max_length, heads).to(device)"
   ]
  },
  {
   "cell_type": "code",
   "execution_count": 52,
   "metadata": {
    "id": "3026a026-a1e7-4f12-9f82-8a78982bb1ed"
   },
   "outputs": [],
   "source": [
    "# Initialize our optimizer and loss function\n",
    "optimizer = torch.optim.Adam(model.parameters(), lr=learning_rate)\n",
    "loss_fn = nn.CrossEntropyLoss(ignore_index=pad_token)"
   ]
  },
  {
   "cell_type": "code",
   "execution_count": 53,
   "metadata": {
    "id": "bbfdc8bd-74e2-45f3-87ea-03c882aa2dee",
    "outputId": "dd835b43-6df6-4fe5-dfbe-1c87dddc1634"
   },
   "outputs": [
    {
     "name": "stdout",
     "output_type": "stream",
     "text": [
      "Starting Epoch 1/10\n"
     ]
    },
    {
     "name": "stderr",
     "output_type": "stream",
     "text": [
      "Training:   0%|                                                                                | 0/860 [00:00<?, ?it/s]"
     ]
    },
    {
     "name": "stdout",
     "output_type": "stream",
     "text": [
      "torch.Size([16, 4, 500, 64])\n",
      "torch.Size([16, 500, 256])\n"
     ]
    },
    {
     "name": "stderr",
     "output_type": "stream",
     "text": [
      "Training:   0%|▏                                                            | 2/860 [00:00<04:06,  3.48it/s, loss=8.85]"
     ]
    },
    {
     "name": "stdout",
     "output_type": "stream",
     "text": [
      "torch.Size([16, 4, 500, 64])\n",
      "torch.Size([16, 500, 256])\n",
      "torch.Size([16, 4, 500, 64])\n",
      "torch.Size([16, 500, 256])\n"
     ]
    },
    {
     "name": "stderr",
     "output_type": "stream",
     "text": [
      "Training:   0%|▎                                                            | 4/860 [00:00<02:45,  5.18it/s, loss=8.85]"
     ]
    },
    {
     "name": "stdout",
     "output_type": "stream",
     "text": [
      "torch.Size([16, 4, 500, 64])\n",
      "torch.Size([16, 500, 256])\n",
      "torch.Size([16, 4, 500, 64])\n",
      "torch.Size([16, 500, 256])\n"
     ]
    },
    {
     "name": "stderr",
     "output_type": "stream",
     "text": [
      "Training:   1%|▍                                                            | 6/860 [00:01<02:24,  5.93it/s, loss=8.85]"
     ]
    },
    {
     "name": "stdout",
     "output_type": "stream",
     "text": [
      "torch.Size([16, 4, 500, 64])\n",
      "torch.Size([16, 500, 256])\n",
      "torch.Size([16, 4, 500, 64])\n",
      "torch.Size([16, 500, 256])\n"
     ]
    },
    {
     "name": "stderr",
     "output_type": "stream",
     "text": [
      "Training:   1%|▌                                                            | 8/860 [00:01<02:13,  6.37it/s, loss=8.82]"
     ]
    },
    {
     "name": "stdout",
     "output_type": "stream",
     "text": [
      "torch.Size([16, 4, 500, 64])\n",
      "torch.Size([16, 500, 256])\n",
      "torch.Size([16, 4, 500, 64])\n",
      "torch.Size([16, 500, 256])\n"
     ]
    },
    {
     "name": "stderr",
     "output_type": "stream",
     "text": [
      "Training:   1%|▋                                                           | 10/860 [00:01<02:08,  6.62it/s, loss=8.78]"
     ]
    },
    {
     "name": "stdout",
     "output_type": "stream",
     "text": [
      "torch.Size([16, 4, 500, 64])\n",
      "torch.Size([16, 500, 256])\n",
      "torch.Size([16, 4, 500, 64])\n",
      "torch.Size([16, 500, 256])\n"
     ]
    },
    {
     "name": "stderr",
     "output_type": "stream",
     "text": [
      "Training:   1%|▊                                                           | 12/860 [00:02<02:06,  6.69it/s, loss=8.77]"
     ]
    },
    {
     "name": "stdout",
     "output_type": "stream",
     "text": [
      "torch.Size([16, 4, 500, 64])\n",
      "torch.Size([16, 500, 256])\n",
      "torch.Size([16, 4, 500, 64])\n",
      "torch.Size([16, 500, 256])\n"
     ]
    },
    {
     "name": "stderr",
     "output_type": "stream",
     "text": [
      "Training:   2%|▉                                                           | 14/860 [00:02<02:06,  6.70it/s, loss=8.77]"
     ]
    },
    {
     "name": "stdout",
     "output_type": "stream",
     "text": [
      "torch.Size([16, 4, 500, 64])\n",
      "torch.Size([16, 500, 256])\n",
      "torch.Size([16, 4, 500, 64])\n",
      "torch.Size([16, 500, 256])\n"
     ]
    },
    {
     "name": "stderr",
     "output_type": "stream",
     "text": [
      "Training:   2%|█                                                           | 16/860 [00:02<02:06,  6.65it/s, loss=8.78]"
     ]
    },
    {
     "name": "stdout",
     "output_type": "stream",
     "text": [
      "torch.Size([16, 4, 500, 64])\n",
      "torch.Size([16, 500, 256])\n",
      "torch.Size([16, 4, 500, 64])\n",
      "torch.Size([16, 500, 256])\n"
     ]
    },
    {
     "name": "stderr",
     "output_type": "stream",
     "text": [
      "Training:   2%|█▎                                                          | 18/860 [00:03<02:07,  6.61it/s, loss=8.75]"
     ]
    },
    {
     "name": "stdout",
     "output_type": "stream",
     "text": [
      "torch.Size([16, 4, 500, 64])\n",
      "torch.Size([16, 500, 256])\n",
      "torch.Size([16, 4, 500, 64])\n",
      "torch.Size([16, 500, 256])\n"
     ]
    },
    {
     "name": "stderr",
     "output_type": "stream",
     "text": [
      "Training:   2%|█▎                                                          | 18/860 [00:03<02:28,  5.68it/s, loss=8.75]\n"
     ]
    },
    {
     "ename": "KeyboardInterrupt",
     "evalue": "",
     "output_type": "error",
     "traceback": [
      "\u001b[1;31m---------------------------------------------------------------------------\u001b[0m",
      "\u001b[1;31mKeyboardInterrupt\u001b[0m                         Traceback (most recent call last)",
      "Cell \u001b[1;32mIn[53], line 37\u001b[0m\n\u001b[0;32m     35\u001b[0m \u001b[38;5;28;01mfor\u001b[39;00m epoch \u001b[38;5;129;01min\u001b[39;00m \u001b[38;5;28mrange\u001b[39m(epochs):\n\u001b[0;32m     36\u001b[0m     \u001b[38;5;28mprint\u001b[39m(\u001b[38;5;124mf\u001b[39m\u001b[38;5;124m\"\u001b[39m\u001b[38;5;124mStarting Epoch \u001b[39m\u001b[38;5;132;01m{\u001b[39;00mepoch\u001b[38;5;250m \u001b[39m\u001b[38;5;241m+\u001b[39m\u001b[38;5;250m \u001b[39m\u001b[38;5;241m1\u001b[39m\u001b[38;5;132;01m}\u001b[39;00m\u001b[38;5;124m/\u001b[39m\u001b[38;5;132;01m{\u001b[39;00mepochs\u001b[38;5;132;01m}\u001b[39;00m\u001b[38;5;124m\"\u001b[39m)\n\u001b[1;32m---> 37\u001b[0m     epoch_loss \u001b[38;5;241m=\u001b[39m train_epoch(data_loader, model, optimizer, loss_fn, device, pad_token)\n\u001b[0;32m     38\u001b[0m     epoch_losses\u001b[38;5;241m.\u001b[39mappend(epoch_loss)\n\u001b[0;32m     39\u001b[0m     \u001b[38;5;28mprint\u001b[39m(\u001b[38;5;124mf\u001b[39m\u001b[38;5;124m\"\u001b[39m\u001b[38;5;124mEpoch \u001b[39m\u001b[38;5;132;01m{\u001b[39;00mepoch\u001b[38;5;250m \u001b[39m\u001b[38;5;241m+\u001b[39m\u001b[38;5;250m \u001b[39m\u001b[38;5;241m1\u001b[39m\u001b[38;5;132;01m}\u001b[39;00m\u001b[38;5;124m, Loss: \u001b[39m\u001b[38;5;132;01m{\u001b[39;00mepoch_loss\u001b[38;5;132;01m:\u001b[39;00m\u001b[38;5;124m.7f\u001b[39m\u001b[38;5;132;01m}\u001b[39;00m\u001b[38;5;124m\"\u001b[39m)\n",
      "Cell \u001b[1;32mIn[53], line 26\u001b[0m, in \u001b[0;36mtrain_epoch\u001b[1;34m(data_loader, model, optimizer, loss_fn, device, pad_token)\u001b[0m\n\u001b[0;32m     24\u001b[0m loss\u001b[38;5;241m.\u001b[39mbackward()\n\u001b[0;32m     25\u001b[0m optimizer\u001b[38;5;241m.\u001b[39mstep()\n\u001b[1;32m---> 26\u001b[0m total_loss \u001b[38;5;241m+\u001b[39m\u001b[38;5;241m=\u001b[39m loss\u001b[38;5;241m.\u001b[39mitem()\n\u001b[0;32m     28\u001b[0m \u001b[38;5;66;03m# Update the progress bar with the current batch loss\u001b[39;00m\n\u001b[0;32m     29\u001b[0m progress_bar\u001b[38;5;241m.\u001b[39mset_postfix(loss\u001b[38;5;241m=\u001b[39mloss\u001b[38;5;241m.\u001b[39mitem())\n",
      "\u001b[1;31mKeyboardInterrupt\u001b[0m: "
     ]
    }
   ],
   "source": [
    "def train_epoch(data_loader, model, optimizer, loss_fn, device, pad_token):\n",
    "    model.train()\n",
    "    total_loss = 0.0\n",
    "\n",
    "    # Wrap your data loader with tqdm for a progress bar\n",
    "    progress_bar = tqdm(data_loader, desc=\"Training\", leave=True)\n",
    "\n",
    "    for input_batch, target_batch in progress_bar:\n",
    "        input_data = input_batch.to(device)  \n",
    "        target_data = target_batch.to(device)\n",
    "        optimizer.zero_grad()\n",
    "        \n",
    "        # Forward pass\n",
    "        probs = model(input_data)\n",
    "        \n",
    "        # Reshape input and output to correct format for loss calculation\n",
    "        B, T, C = probs.shape\n",
    "        probs = probs.view(B*T, C)\n",
    "        target_data = target_data.view(-1)\n",
    "        \n",
    "        # Calculate loss\n",
    "        loss = loss_fn(probs, target_data)\n",
    "\n",
    "        loss.backward()\n",
    "        optimizer.step()\n",
    "        total_loss += loss.item()\n",
    "\n",
    "        # Update the progress bar with the current batch loss\n",
    "        progress_bar.set_postfix(loss=loss.item())\n",
    "\n",
    "    average_loss = total_loss / len(data_loader)\n",
    "    return average_loss\n",
    "\n",
    "epoch_losses = []\n",
    "for epoch in range(epochs):\n",
    "    print(f\"Starting Epoch {epoch + 1}/{epochs}\")\n",
    "    epoch_loss = train_epoch(data_loader, model, optimizer, loss_fn, device, pad_token)\n",
    "    epoch_losses.append(epoch_loss)\n",
    "    print(f\"Epoch {epoch + 1}, Loss: {epoch_loss:.7f}\")"
   ]
  },
  {
   "cell_type": "code",
   "execution_count": null,
   "metadata": {},
   "outputs": [],
   "source": [
    "plt.plot(range(1, epochs + 1), epoch_losses) \n",
    "plt.xlabel(\"Epoch\")\n",
    "plt.ylabel(\"Training Loss\")\n",
    "plt.title(\"Training Loss Over Epochs\")\n",
    "plt.show()"
   ]
  },
  {
   "cell_type": "code",
   "execution_count": null,
   "metadata": {
    "id": "04YLCbmquaQY"
   },
   "outputs": [],
   "source": [
    "model_path = \"model_weights.pth\"\n",
    "torch.save(model.state_dict(), model_path)"
   ]
  },
  {
   "cell_type": "code",
   "execution_count": null,
   "metadata": {
    "id": "dJ30__kSuaQY",
    "outputId": "c6f8f46e-d6bb-4a37-9ea3-0e70e0b6cb1b"
   },
   "outputs": [],
   "source": [
    "model.load_state_dict(torch.load(\"model_weights.pth\"))\n",
    "model.eval()"
   ]
  },
  {
   "cell_type": "code",
   "execution_count": null,
   "metadata": {
    "id": "5132ae30-6205-4e12-a54e-b58b3f03e1bf"
   },
   "outputs": [],
   "source": [
    "def generate_poem(model, start_sequence, tokenizer=tokenizer, max_length=200, pad_token=pad_token):\n",
    "  model.eval()  # Set the model to evaluation mode.\n",
    "  tokens = tokenizer.encode(start_sequence)  # Encode the start sequence to tokens directly using the tokenizer.\n",
    "\n",
    "  # Check if padding token is provided\n",
    "  if pad_token is None:\n",
    "    raise ValueError(\"Padding token (pad_token) argument is required for generation with padding.\")\n",
    "\n",
    "  # Initialize the sequence with the token IDs of the start sequence\n",
    "  generated_ids = tokens.ids\n",
    "\n",
    "  # Add padding to reach the desired max_length\n",
    "  padding_length = max_length - len(generated_ids)\n",
    "  generated_ids += [pad_token] * padding_length\n",
    "\n",
    "  # Convert to tensor and move to device\n",
    "  input_seq = torch.tensor([generated_ids], dtype=torch.long).to(device)\n",
    "\n",
    "  # Generate tokens using greedy decoding with padding\n",
    "  for _ in range(max_length):\n",
    "    with torch.no_grad():\n",
    "      output_logits = model(input_seq)\n",
    "\n",
    "    next_token_id = output_logits[:, -1, :].argmax(-1).item()\n",
    "\n",
    "    # Stop if the end token or padding token is generated.\n",
    "    if next_token_id == tokenizer.token_to_id(\"END\") or next_token_id == pad_token:\n",
    "      break\n",
    "\n",
    "    generated_ids.append(next_token_id)\n",
    "    # Truncate the sequence to remove padding tokens during decoding\n",
    "    input_seq = input_seq[:, :-1]  # Remove last element (padding)\n",
    "    input_seq = torch.cat((input_seq, torch.tensor([[next_token_id]], dtype=torch.long).to(device)), dim=1)\n",
    "\n",
    "  # Decode the token IDs back to text using the tokenizer, removing padding tokens\n",
    "  generated_text = tokenizer.decode(generated_ids[: len(tokens) + 1], skip_special_tokens=True)  # Remove start and padding tokens\n",
    "\n",
    "  return generated_text"
   ]
  },
  {
   "cell_type": "code",
   "execution_count": null,
   "metadata": {
    "id": "01b5e8f6-5146-4019-9f45-08c003279b49",
    "outputId": "b75d8021-cc0c-464e-a6e6-740b75d1c445"
   },
   "outputs": [],
   "source": [
    "start_sequence = \"the tree\"\n",
    "poem = generate_poem(model, start_sequence)\n",
    "print(poem)"
   ]
  },
  {
   "cell_type": "code",
   "execution_count": null,
   "metadata": {
    "id": "23f509d4-499c-4267-928b-b0379cde2b36"
   },
   "outputs": [],
   "source": []
  }
 ],
 "metadata": {
  "accelerator": "GPU",
  "colab": {
   "gpuType": "T4",
   "provenance": []
  },
  "kaggle": {
   "accelerator": "none",
   "dataSources": [
    {
     "datasetId": 236282,
     "sourceId": 502516,
     "sourceType": "datasetVersion"
    },
    {
     "datasetId": 4817926,
     "sourceId": 8147125,
     "sourceType": "datasetVersion"
    }
   ],
   "dockerImageVersionId": 30683,
   "isGpuEnabled": false,
   "isInternetEnabled": true,
   "language": "python",
   "sourceType": "notebook"
  },
  "kernelspec": {
   "display_name": "Python 3 (ipykernel)",
   "language": "python",
   "name": "python3"
  },
  "language_info": {
   "codemirror_mode": {
    "name": "ipython",
    "version": 3
   },
   "file_extension": ".py",
   "mimetype": "text/x-python",
   "name": "python",
   "nbconvert_exporter": "python",
   "pygments_lexer": "ipython3",
   "version": "3.12.2"
  }
 },
 "nbformat": 4,
 "nbformat_minor": 4
}
